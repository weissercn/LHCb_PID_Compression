{
 "cells": [
  {
   "cell_type": "code",
   "execution_count": 1,
   "metadata": {},
   "outputs": [],
   "source": [
    "# uncomment to use specific GPU device\n",
    "# %env CUDA_DEVICE_ORDER=PCI_BUS_ID\n",
    "# %env CUDA_VISIBLE_DEVICES=3"
   ]
  },
  {
   "cell_type": "code",
   "execution_count": 2,
   "metadata": {},
   "outputs": [
    {
     "name": "stderr",
     "output_type": "stream",
     "text": [
      "Using TensorFlow backend.\n",
      "/usr/local/lib/python3.6/dist-packages/sklearn/externals/joblib/__init__.py:15: DeprecationWarning: sklearn.externals.joblib is deprecated in 0.21 and will be removed in 0.23. Please import this functionality directly from joblib, which can be installed with: pip install joblib. If this warning is raised when loading pickled models, you may need to re-serialize those models with scikit-learn 0.21+.\n",
      "  warnings.warn(msg, category=DeprecationWarning)\n"
     ]
    }
   ],
   "source": [
    "from sklearn.model_selection import train_test_split\n",
    "from sklearn.preprocessing import RobustScaler, MaxAbsScaler\n",
    "import tensorflow as tf\n",
    "tf.compat.v1.enable_eager_execution()\n",
    "\n",
    "import keras\n",
    "import keras.layers as ll\n",
    "import pandas as pd\n",
    "import seaborn as sns\n",
    "import numpy as np\n",
    "import matplotlib.pyplot as plt\n",
    "import os\n",
    "from sklearn.externals import joblib\n",
    "from IPython.display import clear_output\n",
    "%matplotlib inline"
   ]
  },
  {
   "cell_type": "code",
   "execution_count": 3,
   "metadata": {},
   "outputs": [
    {
     "data": {
      "text/plain": [
       "'1.15.0'"
      ]
     },
     "execution_count": 3,
     "metadata": {},
     "output_type": "execute_result"
    }
   ],
   "source": [
    "import tensorflow\n",
    "tensorflow.__version__"
   ]
  },
  {
   "cell_type": "code",
   "execution_count": 4,
   "metadata": {},
   "outputs": [
    {
     "data": {
      "text/plain": [
       "'2.2.4'"
      ]
     },
     "execution_count": 4,
     "metadata": {},
     "output_type": "execute_result"
    }
   ],
   "source": [
    "keras.__version__"
   ]
  },
  {
   "cell_type": "code",
   "execution_count": 5,
   "metadata": {},
   "outputs": [],
   "source": [
    "tf_config = tf.ConfigProto(gpu_options=tf.GPUOptions(allow_growth=True), log_device_placement=True)"
   ]
  },
  {
   "cell_type": "markdown",
   "metadata": {},
   "source": [
    "## 1. Prepare the data"
   ]
  },
  {
   "cell_type": "markdown",
   "metadata": {},
   "source": [
    "read the data from csv file:"
   ]
  },
  {
   "cell_type": "code",
   "execution_count": 6,
   "metadata": {},
   "outputs": [],
   "source": [
    "CSV_PATH = None #\"./data/data_for_gan_combined_ksttrain_spdrestr.csv\"\n",
    "PID_NAME = \"e\"\n",
    "PID_NAME_Save = \"e\""
   ]
  },
  {
   "cell_type": "code",
   "execution_count": 7,
   "metadata": {},
   "outputs": [],
   "source": [
    "#data_all_pids = pd.read_csv(CSV_PATH)\n",
    "fnames_in = [(\"./data/NTuple_BKstee_516_517_676942_to_-1_VAE_l1_in_spdrestr.csv\", \"e\"),  (\"./data/NTuple_BKstee_516_517_676942_to_-1_VAE_l2_in_spdrestr.csv\", \"e\")] \n",
    "data_all_pids = pd.concat([pd.read_csv(f).assign(pid= pid_type) for f, pid_type in fnames_in ])"
   ]
  },
  {
   "cell_type": "code",
   "execution_count": 8,
   "metadata": {},
   "outputs": [
    {
     "data": {
      "text/html": [
       "<div>\n",
       "<style scoped>\n",
       "    .dataframe tbody tr th:only-of-type {\n",
       "        vertical-align: middle;\n",
       "    }\n",
       "\n",
       "    .dataframe tbody tr th {\n",
       "        vertical-align: top;\n",
       "    }\n",
       "\n",
       "    .dataframe thead th {\n",
       "        text-align: right;\n",
       "    }\n",
       "</style>\n",
       "<table border=\"1\" class=\"dataframe\">\n",
       "  <thead>\n",
       "    <tr style=\"text-align: right;\">\n",
       "      <th></th>\n",
       "      <th>S6aux0</th>\n",
       "      <th>S5aux0</th>\n",
       "      <th>S3aux0</th>\n",
       "      <th>S2aux0</th>\n",
       "      <th>S0aux0</th>\n",
       "      <th>S0aux1</th>\n",
       "      <th>S0aux2</th>\n",
       "      <th>S0aux3</th>\n",
       "      <th>S2aux1</th>\n",
       "      <th>S2aux2</th>\n",
       "      <th>S2aux3</th>\n",
       "      <th>S0aux4</th>\n",
       "      <th>S0aux5</th>\n",
       "      <th>S0aux6</th>\n",
       "      <th>S0aux7</th>\n",
       "      <th>S0aux8</th>\n",
       "      <th>GS3x1</th>\n",
       "      <th>GS3x0</th>\n",
       "      <th>GS0x7</th>\n",
       "      <th>pid</th>\n",
       "    </tr>\n",
       "  </thead>\n",
       "  <tbody>\n",
       "    <tr>\n",
       "      <td>0</td>\n",
       "      <td>267.0</td>\n",
       "      <td>1.0</td>\n",
       "      <td>1.0</td>\n",
       "      <td>1.0</td>\n",
       "      <td>14.309752</td>\n",
       "      <td>17.0</td>\n",
       "      <td>14.005448</td>\n",
       "      <td>17.0</td>\n",
       "      <td>0.0</td>\n",
       "      <td>0.0</td>\n",
       "      <td>0.0</td>\n",
       "      <td>0.846428</td>\n",
       "      <td>3.0</td>\n",
       "      <td>2.799803</td>\n",
       "      <td>7178.680000</td>\n",
       "      <td>870.025767</td>\n",
       "      <td>1.295050</td>\n",
       "      <td>3.586980</td>\n",
       "      <td>0.282780</td>\n",
       "      <td>e</td>\n",
       "    </tr>\n",
       "    <tr>\n",
       "      <td>1</td>\n",
       "      <td>97.0</td>\n",
       "      <td>1.0</td>\n",
       "      <td>1.0</td>\n",
       "      <td>1.0</td>\n",
       "      <td>16.549866</td>\n",
       "      <td>14.0</td>\n",
       "      <td>12.468595</td>\n",
       "      <td>13.0</td>\n",
       "      <td>0.0</td>\n",
       "      <td>0.0</td>\n",
       "      <td>0.0</td>\n",
       "      <td>1.935238</td>\n",
       "      <td>3.0</td>\n",
       "      <td>2.815118</td>\n",
       "      <td>11013.600000</td>\n",
       "      <td>1314.660874</td>\n",
       "      <td>-1.304873</td>\n",
       "      <td>6.963297</td>\n",
       "      <td>0.001017</td>\n",
       "      <td>e</td>\n",
       "    </tr>\n",
       "    <tr>\n",
       "      <td>2</td>\n",
       "      <td>306.0</td>\n",
       "      <td>1.0</td>\n",
       "      <td>1.0</td>\n",
       "      <td>1.0</td>\n",
       "      <td>20.591854</td>\n",
       "      <td>17.0</td>\n",
       "      <td>5.439998</td>\n",
       "      <td>9.0</td>\n",
       "      <td>0.0</td>\n",
       "      <td>0.0</td>\n",
       "      <td>0.0</td>\n",
       "      <td>0.980245</td>\n",
       "      <td>3.0</td>\n",
       "      <td>4.105611</td>\n",
       "      <td>137031.246777</td>\n",
       "      <td>4515.310940</td>\n",
       "      <td>-1.885726</td>\n",
       "      <td>7.228925</td>\n",
       "      <td>0.132433</td>\n",
       "      <td>e</td>\n",
       "    </tr>\n",
       "    <tr>\n",
       "      <td>3</td>\n",
       "      <td>266.0</td>\n",
       "      <td>1.0</td>\n",
       "      <td>1.0</td>\n",
       "      <td>1.0</td>\n",
       "      <td>12.705096</td>\n",
       "      <td>15.0</td>\n",
       "      <td>5.861532</td>\n",
       "      <td>7.0</td>\n",
       "      <td>0.0</td>\n",
       "      <td>0.0</td>\n",
       "      <td>0.0</td>\n",
       "      <td>0.834439</td>\n",
       "      <td>3.0</td>\n",
       "      <td>2.488737</td>\n",
       "      <td>46727.595259</td>\n",
       "      <td>7705.061964</td>\n",
       "      <td>-3.793932</td>\n",
       "      <td>9.897020</td>\n",
       "      <td>0.005045</td>\n",
       "      <td>e</td>\n",
       "    </tr>\n",
       "    <tr>\n",
       "      <td>4</td>\n",
       "      <td>363.0</td>\n",
       "      <td>1.0</td>\n",
       "      <td>1.0</td>\n",
       "      <td>1.0</td>\n",
       "      <td>29.216190</td>\n",
       "      <td>15.0</td>\n",
       "      <td>11.486979</td>\n",
       "      <td>15.0</td>\n",
       "      <td>0.0</td>\n",
       "      <td>0.0</td>\n",
       "      <td>0.0</td>\n",
       "      <td>1.197420</td>\n",
       "      <td>3.0</td>\n",
       "      <td>3.787509</td>\n",
       "      <td>55138.060000</td>\n",
       "      <td>2496.688458</td>\n",
       "      <td>-0.027824</td>\n",
       "      <td>9.235175</td>\n",
       "      <td>0.000244</td>\n",
       "      <td>e</td>\n",
       "    </tr>\n",
       "    <tr>\n",
       "      <td>...</td>\n",
       "      <td>...</td>\n",
       "      <td>...</td>\n",
       "      <td>...</td>\n",
       "      <td>...</td>\n",
       "      <td>...</td>\n",
       "      <td>...</td>\n",
       "      <td>...</td>\n",
       "      <td>...</td>\n",
       "      <td>...</td>\n",
       "      <td>...</td>\n",
       "      <td>...</td>\n",
       "      <td>...</td>\n",
       "      <td>...</td>\n",
       "      <td>...</td>\n",
       "      <td>...</td>\n",
       "      <td>...</td>\n",
       "      <td>...</td>\n",
       "      <td>...</td>\n",
       "      <td>...</td>\n",
       "      <td>...</td>\n",
       "    </tr>\n",
       "    <tr>\n",
       "      <td>31928</td>\n",
       "      <td>162.0</td>\n",
       "      <td>1.0</td>\n",
       "      <td>1.0</td>\n",
       "      <td>1.0</td>\n",
       "      <td>3.689680</td>\n",
       "      <td>6.0</td>\n",
       "      <td>5.551282</td>\n",
       "      <td>10.0</td>\n",
       "      <td>0.0</td>\n",
       "      <td>0.0</td>\n",
       "      <td>0.0</td>\n",
       "      <td>0.597536</td>\n",
       "      <td>3.0</td>\n",
       "      <td>3.469078</td>\n",
       "      <td>17145.740000</td>\n",
       "      <td>1066.998148</td>\n",
       "      <td>-1.098231</td>\n",
       "      <td>6.994879</td>\n",
       "      <td>0.002530</td>\n",
       "      <td>e</td>\n",
       "    </tr>\n",
       "    <tr>\n",
       "      <td>31929</td>\n",
       "      <td>335.0</td>\n",
       "      <td>1.0</td>\n",
       "      <td>1.0</td>\n",
       "      <td>1.0</td>\n",
       "      <td>23.511486</td>\n",
       "      <td>13.0</td>\n",
       "      <td>5.594829</td>\n",
       "      <td>10.0</td>\n",
       "      <td>0.0</td>\n",
       "      <td>0.0</td>\n",
       "      <td>0.0</td>\n",
       "      <td>1.147393</td>\n",
       "      <td>3.0</td>\n",
       "      <td>3.427095</td>\n",
       "      <td>26046.939565</td>\n",
       "      <td>1690.287009</td>\n",
       "      <td>1.725583</td>\n",
       "      <td>10.650863</td>\n",
       "      <td>0.119502</td>\n",
       "      <td>e</td>\n",
       "    </tr>\n",
       "    <tr>\n",
       "      <td>31930</td>\n",
       "      <td>185.0</td>\n",
       "      <td>1.0</td>\n",
       "      <td>1.0</td>\n",
       "      <td>1.0</td>\n",
       "      <td>16.322519</td>\n",
       "      <td>16.0</td>\n",
       "      <td>14.426340</td>\n",
       "      <td>9.0</td>\n",
       "      <td>0.0</td>\n",
       "      <td>0.0</td>\n",
       "      <td>0.0</td>\n",
       "      <td>1.110122</td>\n",
       "      <td>3.0</td>\n",
       "      <td>2.620489</td>\n",
       "      <td>37233.399423</td>\n",
       "      <td>5390.204020</td>\n",
       "      <td>-3.228240</td>\n",
       "      <td>10.532071</td>\n",
       "      <td>0.001557</td>\n",
       "      <td>e</td>\n",
       "    </tr>\n",
       "    <tr>\n",
       "      <td>31931</td>\n",
       "      <td>425.0</td>\n",
       "      <td>1.0</td>\n",
       "      <td>1.0</td>\n",
       "      <td>1.0</td>\n",
       "      <td>15.089429</td>\n",
       "      <td>16.0</td>\n",
       "      <td>8.243606</td>\n",
       "      <td>4.0</td>\n",
       "      <td>0.0</td>\n",
       "      <td>0.0</td>\n",
       "      <td>0.0</td>\n",
       "      <td>1.008683</td>\n",
       "      <td>3.0</td>\n",
       "      <td>3.824506</td>\n",
       "      <td>14354.870000</td>\n",
       "      <td>626.412812</td>\n",
       "      <td>0.663601</td>\n",
       "      <td>0.552810</td>\n",
       "      <td>0.012113</td>\n",
       "      <td>e</td>\n",
       "    </tr>\n",
       "    <tr>\n",
       "      <td>31932</td>\n",
       "      <td>128.0</td>\n",
       "      <td>1.0</td>\n",
       "      <td>1.0</td>\n",
       "      <td>1.0</td>\n",
       "      <td>12.591647</td>\n",
       "      <td>16.0</td>\n",
       "      <td>1.042681</td>\n",
       "      <td>3.0</td>\n",
       "      <td>0.0</td>\n",
       "      <td>0.0</td>\n",
       "      <td>0.0</td>\n",
       "      <td>0.701961</td>\n",
       "      <td>3.0</td>\n",
       "      <td>2.078493</td>\n",
       "      <td>9933.355581</td>\n",
       "      <td>2447.383262</td>\n",
       "      <td>-7.925459</td>\n",
       "      <td>11.048124</td>\n",
       "      <td>0.030563</td>\n",
       "      <td>e</td>\n",
       "    </tr>\n",
       "  </tbody>\n",
       "</table>\n",
       "<p>63866 rows × 20 columns</p>\n",
       "</div>"
      ],
      "text/plain": [
       "       S6aux0  S5aux0  S3aux0  S2aux0     S0aux0  S0aux1     S0aux2  S0aux3  \\\n",
       "0       267.0     1.0     1.0     1.0  14.309752    17.0  14.005448    17.0   \n",
       "1        97.0     1.0     1.0     1.0  16.549866    14.0  12.468595    13.0   \n",
       "2       306.0     1.0     1.0     1.0  20.591854    17.0   5.439998     9.0   \n",
       "3       266.0     1.0     1.0     1.0  12.705096    15.0   5.861532     7.0   \n",
       "4       363.0     1.0     1.0     1.0  29.216190    15.0  11.486979    15.0   \n",
       "...       ...     ...     ...     ...        ...     ...        ...     ...   \n",
       "31928   162.0     1.0     1.0     1.0   3.689680     6.0   5.551282    10.0   \n",
       "31929   335.0     1.0     1.0     1.0  23.511486    13.0   5.594829    10.0   \n",
       "31930   185.0     1.0     1.0     1.0  16.322519    16.0  14.426340     9.0   \n",
       "31931   425.0     1.0     1.0     1.0  15.089429    16.0   8.243606     4.0   \n",
       "31932   128.0     1.0     1.0     1.0  12.591647    16.0   1.042681     3.0   \n",
       "\n",
       "       S2aux1  S2aux2  S2aux3    S0aux4  S0aux5    S0aux6         S0aux7  \\\n",
       "0         0.0     0.0     0.0  0.846428     3.0  2.799803    7178.680000   \n",
       "1         0.0     0.0     0.0  1.935238     3.0  2.815118   11013.600000   \n",
       "2         0.0     0.0     0.0  0.980245     3.0  4.105611  137031.246777   \n",
       "3         0.0     0.0     0.0  0.834439     3.0  2.488737   46727.595259   \n",
       "4         0.0     0.0     0.0  1.197420     3.0  3.787509   55138.060000   \n",
       "...       ...     ...     ...       ...     ...       ...            ...   \n",
       "31928     0.0     0.0     0.0  0.597536     3.0  3.469078   17145.740000   \n",
       "31929     0.0     0.0     0.0  1.147393     3.0  3.427095   26046.939565   \n",
       "31930     0.0     0.0     0.0  1.110122     3.0  2.620489   37233.399423   \n",
       "31931     0.0     0.0     0.0  1.008683     3.0  3.824506   14354.870000   \n",
       "31932     0.0     0.0     0.0  0.701961     3.0  2.078493    9933.355581   \n",
       "\n",
       "            S0aux8     GS3x1      GS3x0     GS0x7 pid  \n",
       "0       870.025767  1.295050   3.586980  0.282780   e  \n",
       "1      1314.660874 -1.304873   6.963297  0.001017   e  \n",
       "2      4515.310940 -1.885726   7.228925  0.132433   e  \n",
       "3      7705.061964 -3.793932   9.897020  0.005045   e  \n",
       "4      2496.688458 -0.027824   9.235175  0.000244   e  \n",
       "...            ...       ...        ...       ...  ..  \n",
       "31928  1066.998148 -1.098231   6.994879  0.002530   e  \n",
       "31929  1690.287009  1.725583  10.650863  0.119502   e  \n",
       "31930  5390.204020 -3.228240  10.532071  0.001557   e  \n",
       "31931   626.412812  0.663601   0.552810  0.012113   e  \n",
       "31932  2447.383262 -7.925459  11.048124  0.030563   e  \n",
       "\n",
       "[63866 rows x 20 columns]"
      ]
     },
     "execution_count": 8,
     "metadata": {},
     "output_type": "execute_result"
    }
   ],
   "source": [
    "data_all_pids"
   ]
  },
  {
   "cell_type": "code",
   "execution_count": 9,
   "metadata": {},
   "outputs": [],
   "source": [
    "def sigmoid(x):\n",
    "  return 1 / (1 + np.exp(-x))\n",
    "\n",
    "def inv_sigmoid(y):\n",
    "  return - np.log(1./y -1)\n"
   ]
  },
  {
   "cell_type": "code",
   "execution_count": 10,
   "metadata": {},
   "outputs": [],
   "source": [
    "data_all_pids['GS0x7_invsigmoid'] = data_all_pids['GS0x7'].apply(inv_sigmoid)\n",
    "data_all_pids.drop(\"GS0x7\", axis=1, inplace=True)\n",
    "#data_all_pids['GS0x7'] = data_all_pids['GS0x7_invsigmoid'].apply(sigmoid)"
   ]
  },
  {
   "cell_type": "markdown",
   "metadata": {},
   "source": [
    "split columns in data to categories"
   ]
  },
  {
   "cell_type": "code",
   "execution_count": 11,
   "metadata": {},
   "outputs": [],
   "source": [
    "vars_list = list(data_all_pids)\n",
    "vars_list_input, vars_list_aux, vars_list_MC = [], [], []\n",
    "\n",
    "for v in vars_list:\n",
    "    if v == 'pid': \n",
    "        vars_list_MC.append(v)\n",
    "    elif 'aux' in v: \n",
    "        vars_list_aux.append(v)\n",
    "    else: \n",
    "        vars_list_input.append(v)"
   ]
  },
  {
   "cell_type": "code",
   "execution_count": 12,
   "metadata": {},
   "outputs": [],
   "source": [
    "in_columns = ['S6aux0','S0aux7', 'S0aux6', 'S3aux0', 'S2aux0', 'S5aux0']\n",
    "out_columns = vars_list_input\n",
    "IN_DIM = len(in_columns)\n",
    "OUT_DIM = len(out_columns)\n",
    "MODEL_NAME = \"GAN_Kramer_pid{}_ksttrain_nspdsigpnnrestrnomix\".format(PID_NAME_Save)"
   ]
  },
  {
   "cell_type": "code",
   "execution_count": 13,
   "metadata": {},
   "outputs": [
    {
     "name": "stdout",
     "output_type": "stream",
     "text": [
      "0.598687660112452 0.39999999999999997\n"
     ]
    }
   ],
   "source": [
    "print(sigmoid(0.4), inv_sigmoid(sigmoid(0.4)))"
   ]
  },
  {
   "cell_type": "code",
   "execution_count": 14,
   "metadata": {},
   "outputs": [
    {
     "data": {
      "text/html": [
       "<div>\n",
       "<style scoped>\n",
       "    .dataframe tbody tr th:only-of-type {\n",
       "        vertical-align: middle;\n",
       "    }\n",
       "\n",
       "    .dataframe tbody tr th {\n",
       "        vertical-align: top;\n",
       "    }\n",
       "\n",
       "    .dataframe thead th {\n",
       "        text-align: right;\n",
       "    }\n",
       "</style>\n",
       "<table border=\"1\" class=\"dataframe\">\n",
       "  <thead>\n",
       "    <tr style=\"text-align: right;\">\n",
       "      <th></th>\n",
       "      <th>S6aux0</th>\n",
       "      <th>S5aux0</th>\n",
       "      <th>S3aux0</th>\n",
       "      <th>S2aux0</th>\n",
       "      <th>S0aux0</th>\n",
       "      <th>S0aux1</th>\n",
       "      <th>S0aux2</th>\n",
       "      <th>S0aux3</th>\n",
       "      <th>S2aux1</th>\n",
       "      <th>S2aux2</th>\n",
       "      <th>S2aux3</th>\n",
       "      <th>S0aux4</th>\n",
       "      <th>S0aux5</th>\n",
       "      <th>S0aux6</th>\n",
       "      <th>S0aux7</th>\n",
       "      <th>S0aux8</th>\n",
       "      <th>GS3x1</th>\n",
       "      <th>GS3x0</th>\n",
       "      <th>pid</th>\n",
       "      <th>GS0x7_invsigmoid</th>\n",
       "    </tr>\n",
       "  </thead>\n",
       "  <tbody>\n",
       "    <tr>\n",
       "      <td>0</td>\n",
       "      <td>267.0</td>\n",
       "      <td>1.0</td>\n",
       "      <td>1.0</td>\n",
       "      <td>1.0</td>\n",
       "      <td>14.309752</td>\n",
       "      <td>17.0</td>\n",
       "      <td>14.005448</td>\n",
       "      <td>17.0</td>\n",
       "      <td>0.0</td>\n",
       "      <td>0.0</td>\n",
       "      <td>0.0</td>\n",
       "      <td>0.846428</td>\n",
       "      <td>3.0</td>\n",
       "      <td>2.799803</td>\n",
       "      <td>7178.680000</td>\n",
       "      <td>870.025767</td>\n",
       "      <td>1.295050</td>\n",
       "      <td>3.586980</td>\n",
       "      <td>e</td>\n",
       "      <td>-0.930715</td>\n",
       "    </tr>\n",
       "    <tr>\n",
       "      <td>1</td>\n",
       "      <td>97.0</td>\n",
       "      <td>1.0</td>\n",
       "      <td>1.0</td>\n",
       "      <td>1.0</td>\n",
       "      <td>16.549866</td>\n",
       "      <td>14.0</td>\n",
       "      <td>12.468595</td>\n",
       "      <td>13.0</td>\n",
       "      <td>0.0</td>\n",
       "      <td>0.0</td>\n",
       "      <td>0.0</td>\n",
       "      <td>1.935238</td>\n",
       "      <td>3.0</td>\n",
       "      <td>2.815118</td>\n",
       "      <td>11013.600000</td>\n",
       "      <td>1314.660874</td>\n",
       "      <td>-1.304873</td>\n",
       "      <td>6.963297</td>\n",
       "      <td>e</td>\n",
       "      <td>-6.889805</td>\n",
       "    </tr>\n",
       "    <tr>\n",
       "      <td>2</td>\n",
       "      <td>306.0</td>\n",
       "      <td>1.0</td>\n",
       "      <td>1.0</td>\n",
       "      <td>1.0</td>\n",
       "      <td>20.591854</td>\n",
       "      <td>17.0</td>\n",
       "      <td>5.439998</td>\n",
       "      <td>9.0</td>\n",
       "      <td>0.0</td>\n",
       "      <td>0.0</td>\n",
       "      <td>0.0</td>\n",
       "      <td>0.980245</td>\n",
       "      <td>3.0</td>\n",
       "      <td>4.105611</td>\n",
       "      <td>137031.246777</td>\n",
       "      <td>4515.310940</td>\n",
       "      <td>-1.885726</td>\n",
       "      <td>7.228925</td>\n",
       "      <td>e</td>\n",
       "      <td>-1.879616</td>\n",
       "    </tr>\n",
       "    <tr>\n",
       "      <td>3</td>\n",
       "      <td>266.0</td>\n",
       "      <td>1.0</td>\n",
       "      <td>1.0</td>\n",
       "      <td>1.0</td>\n",
       "      <td>12.705096</td>\n",
       "      <td>15.0</td>\n",
       "      <td>5.861532</td>\n",
       "      <td>7.0</td>\n",
       "      <td>0.0</td>\n",
       "      <td>0.0</td>\n",
       "      <td>0.0</td>\n",
       "      <td>0.834439</td>\n",
       "      <td>3.0</td>\n",
       "      <td>2.488737</td>\n",
       "      <td>46727.595259</td>\n",
       "      <td>7705.061964</td>\n",
       "      <td>-3.793932</td>\n",
       "      <td>9.897020</td>\n",
       "      <td>e</td>\n",
       "      <td>-5.284382</td>\n",
       "    </tr>\n",
       "    <tr>\n",
       "      <td>4</td>\n",
       "      <td>363.0</td>\n",
       "      <td>1.0</td>\n",
       "      <td>1.0</td>\n",
       "      <td>1.0</td>\n",
       "      <td>29.216190</td>\n",
       "      <td>15.0</td>\n",
       "      <td>11.486979</td>\n",
       "      <td>15.0</td>\n",
       "      <td>0.0</td>\n",
       "      <td>0.0</td>\n",
       "      <td>0.0</td>\n",
       "      <td>1.197420</td>\n",
       "      <td>3.0</td>\n",
       "      <td>3.787509</td>\n",
       "      <td>55138.060000</td>\n",
       "      <td>2496.688458</td>\n",
       "      <td>-0.027824</td>\n",
       "      <td>9.235175</td>\n",
       "      <td>e</td>\n",
       "      <td>-8.318762</td>\n",
       "    </tr>\n",
       "    <tr>\n",
       "      <td>...</td>\n",
       "      <td>...</td>\n",
       "      <td>...</td>\n",
       "      <td>...</td>\n",
       "      <td>...</td>\n",
       "      <td>...</td>\n",
       "      <td>...</td>\n",
       "      <td>...</td>\n",
       "      <td>...</td>\n",
       "      <td>...</td>\n",
       "      <td>...</td>\n",
       "      <td>...</td>\n",
       "      <td>...</td>\n",
       "      <td>...</td>\n",
       "      <td>...</td>\n",
       "      <td>...</td>\n",
       "      <td>...</td>\n",
       "      <td>...</td>\n",
       "      <td>...</td>\n",
       "      <td>...</td>\n",
       "      <td>...</td>\n",
       "    </tr>\n",
       "    <tr>\n",
       "      <td>31928</td>\n",
       "      <td>162.0</td>\n",
       "      <td>1.0</td>\n",
       "      <td>1.0</td>\n",
       "      <td>1.0</td>\n",
       "      <td>3.689680</td>\n",
       "      <td>6.0</td>\n",
       "      <td>5.551282</td>\n",
       "      <td>10.0</td>\n",
       "      <td>0.0</td>\n",
       "      <td>0.0</td>\n",
       "      <td>0.0</td>\n",
       "      <td>0.597536</td>\n",
       "      <td>3.0</td>\n",
       "      <td>3.469078</td>\n",
       "      <td>17145.740000</td>\n",
       "      <td>1066.998148</td>\n",
       "      <td>-1.098231</td>\n",
       "      <td>6.994879</td>\n",
       "      <td>e</td>\n",
       "      <td>-5.976915</td>\n",
       "    </tr>\n",
       "    <tr>\n",
       "      <td>31929</td>\n",
       "      <td>335.0</td>\n",
       "      <td>1.0</td>\n",
       "      <td>1.0</td>\n",
       "      <td>1.0</td>\n",
       "      <td>23.511486</td>\n",
       "      <td>13.0</td>\n",
       "      <td>5.594829</td>\n",
       "      <td>10.0</td>\n",
       "      <td>0.0</td>\n",
       "      <td>0.0</td>\n",
       "      <td>0.0</td>\n",
       "      <td>1.147393</td>\n",
       "      <td>3.0</td>\n",
       "      <td>3.427095</td>\n",
       "      <td>26046.939565</td>\n",
       "      <td>1690.287009</td>\n",
       "      <td>1.725583</td>\n",
       "      <td>10.650863</td>\n",
       "      <td>e</td>\n",
       "      <td>-1.997156</td>\n",
       "    </tr>\n",
       "    <tr>\n",
       "      <td>31930</td>\n",
       "      <td>185.0</td>\n",
       "      <td>1.0</td>\n",
       "      <td>1.0</td>\n",
       "      <td>1.0</td>\n",
       "      <td>16.322519</td>\n",
       "      <td>16.0</td>\n",
       "      <td>14.426340</td>\n",
       "      <td>9.0</td>\n",
       "      <td>0.0</td>\n",
       "      <td>0.0</td>\n",
       "      <td>0.0</td>\n",
       "      <td>1.110122</td>\n",
       "      <td>3.0</td>\n",
       "      <td>2.620489</td>\n",
       "      <td>37233.399423</td>\n",
       "      <td>5390.204020</td>\n",
       "      <td>-3.228240</td>\n",
       "      <td>10.532071</td>\n",
       "      <td>e</td>\n",
       "      <td>-6.463393</td>\n",
       "    </tr>\n",
       "    <tr>\n",
       "      <td>31931</td>\n",
       "      <td>425.0</td>\n",
       "      <td>1.0</td>\n",
       "      <td>1.0</td>\n",
       "      <td>1.0</td>\n",
       "      <td>15.089429</td>\n",
       "      <td>16.0</td>\n",
       "      <td>8.243606</td>\n",
       "      <td>4.0</td>\n",
       "      <td>0.0</td>\n",
       "      <td>0.0</td>\n",
       "      <td>0.0</td>\n",
       "      <td>1.008683</td>\n",
       "      <td>3.0</td>\n",
       "      <td>3.824506</td>\n",
       "      <td>14354.870000</td>\n",
       "      <td>626.412812</td>\n",
       "      <td>0.663601</td>\n",
       "      <td>0.552810</td>\n",
       "      <td>e</td>\n",
       "      <td>-4.401278</td>\n",
       "    </tr>\n",
       "    <tr>\n",
       "      <td>31932</td>\n",
       "      <td>128.0</td>\n",
       "      <td>1.0</td>\n",
       "      <td>1.0</td>\n",
       "      <td>1.0</td>\n",
       "      <td>12.591647</td>\n",
       "      <td>16.0</td>\n",
       "      <td>1.042681</td>\n",
       "      <td>3.0</td>\n",
       "      <td>0.0</td>\n",
       "      <td>0.0</td>\n",
       "      <td>0.0</td>\n",
       "      <td>0.701961</td>\n",
       "      <td>3.0</td>\n",
       "      <td>2.078493</td>\n",
       "      <td>9933.355581</td>\n",
       "      <td>2447.383262</td>\n",
       "      <td>-7.925459</td>\n",
       "      <td>11.048124</td>\n",
       "      <td>e</td>\n",
       "      <td>-3.456915</td>\n",
       "    </tr>\n",
       "  </tbody>\n",
       "</table>\n",
       "<p>63866 rows × 20 columns</p>\n",
       "</div>"
      ],
      "text/plain": [
       "       S6aux0  S5aux0  S3aux0  S2aux0     S0aux0  S0aux1     S0aux2  S0aux3  \\\n",
       "0       267.0     1.0     1.0     1.0  14.309752    17.0  14.005448    17.0   \n",
       "1        97.0     1.0     1.0     1.0  16.549866    14.0  12.468595    13.0   \n",
       "2       306.0     1.0     1.0     1.0  20.591854    17.0   5.439998     9.0   \n",
       "3       266.0     1.0     1.0     1.0  12.705096    15.0   5.861532     7.0   \n",
       "4       363.0     1.0     1.0     1.0  29.216190    15.0  11.486979    15.0   \n",
       "...       ...     ...     ...     ...        ...     ...        ...     ...   \n",
       "31928   162.0     1.0     1.0     1.0   3.689680     6.0   5.551282    10.0   \n",
       "31929   335.0     1.0     1.0     1.0  23.511486    13.0   5.594829    10.0   \n",
       "31930   185.0     1.0     1.0     1.0  16.322519    16.0  14.426340     9.0   \n",
       "31931   425.0     1.0     1.0     1.0  15.089429    16.0   8.243606     4.0   \n",
       "31932   128.0     1.0     1.0     1.0  12.591647    16.0   1.042681     3.0   \n",
       "\n",
       "       S2aux1  S2aux2  S2aux3    S0aux4  S0aux5    S0aux6         S0aux7  \\\n",
       "0         0.0     0.0     0.0  0.846428     3.0  2.799803    7178.680000   \n",
       "1         0.0     0.0     0.0  1.935238     3.0  2.815118   11013.600000   \n",
       "2         0.0     0.0     0.0  0.980245     3.0  4.105611  137031.246777   \n",
       "3         0.0     0.0     0.0  0.834439     3.0  2.488737   46727.595259   \n",
       "4         0.0     0.0     0.0  1.197420     3.0  3.787509   55138.060000   \n",
       "...       ...     ...     ...       ...     ...       ...            ...   \n",
       "31928     0.0     0.0     0.0  0.597536     3.0  3.469078   17145.740000   \n",
       "31929     0.0     0.0     0.0  1.147393     3.0  3.427095   26046.939565   \n",
       "31930     0.0     0.0     0.0  1.110122     3.0  2.620489   37233.399423   \n",
       "31931     0.0     0.0     0.0  1.008683     3.0  3.824506   14354.870000   \n",
       "31932     0.0     0.0     0.0  0.701961     3.0  2.078493    9933.355581   \n",
       "\n",
       "            S0aux8     GS3x1      GS3x0 pid  GS0x7_invsigmoid  \n",
       "0       870.025767  1.295050   3.586980   e         -0.930715  \n",
       "1      1314.660874 -1.304873   6.963297   e         -6.889805  \n",
       "2      4515.310940 -1.885726   7.228925   e         -1.879616  \n",
       "3      7705.061964 -3.793932   9.897020   e         -5.284382  \n",
       "4      2496.688458 -0.027824   9.235175   e         -8.318762  \n",
       "...            ...       ...        ...  ..               ...  \n",
       "31928  1066.998148 -1.098231   6.994879   e         -5.976915  \n",
       "31929  1690.287009  1.725583  10.650863   e         -1.997156  \n",
       "31930  5390.204020 -3.228240  10.532071   e         -6.463393  \n",
       "31931   626.412812  0.663601   0.552810   e         -4.401278  \n",
       "31932  2447.383262 -7.925459  11.048124   e         -3.456915  \n",
       "\n",
       "[63866 rows x 20 columns]"
      ]
     },
     "execution_count": 14,
     "metadata": {},
     "output_type": "execute_result"
    }
   ],
   "source": [
    "data_all_pids"
   ]
  },
  {
   "cell_type": "code",
   "execution_count": 15,
   "metadata": {},
   "outputs": [],
   "source": [
    "BATCH_SIZE = int(1e4)\n",
    "LATENT_DIMENSIONS = 3\n",
    "TEST_SIZE = 0.3"
   ]
  },
  {
   "cell_type": "code",
   "execution_count": 16,
   "metadata": {},
   "outputs": [],
   "source": [
    "def split_and_scale(data, robust_scaler=None, maxabs_scaler=None):\n",
    "    # split data to train, val & test\n",
    "    data_train, data_val = train_test_split(data, test_size=TEST_SIZE, random_state=42)\n",
    "    data_val, data_test = train_test_split(data_val, test_size=TEST_SIZE, random_state=1812)\n",
    "    \n",
    "    # dropping pid column for applying preprocessing, will return it after\n",
    "    pid_train = np.array(data_train[\"pid\"])\n",
    "    pid_val = np.array(data_val[\"pid\"])\n",
    "    pid_test = np.array(data_test[\"pid\"])\n",
    "    \n",
    "    data_train.drop(\"pid\", axis=1, inplace=True)\n",
    "    data_val.drop(\"pid\", axis=1, inplace=True)\n",
    "    data_test.drop(\"pid\", axis=1, inplace=True)\n",
    "    \n",
    "    # path to save preprocessor models to\n",
    "    if not os.path.exists('gan_preprocessors'):\n",
    "        os.makedrs('gan_preprocessors')\n",
    "    \n",
    "    # applying robust scaler\n",
    "    if robust_scaler is None:\n",
    "        robust_scaler = RobustScaler().fit(data_train)\n",
    "        # save preprocessor model\n",
    "        joblib.dump(robust_scaler, os.path.join('gan_preprocessors', MODEL_NAME) + \"_robust_preprocessor.pkl\")\n",
    "        \n",
    "    data_train = pd.DataFrame(robust_scaler.transform(data_train.values),\n",
    "                              columns=data_train.columns)\n",
    "    data_val = pd.DataFrame(robust_scaler.transform(data_val.values),\n",
    "                            columns=data_val.columns)\n",
    "    data_test = pd.DataFrame(robust_scaler.transform(data_test.values),\n",
    "                            columns=data_test.columns)\n",
    "    \n",
    "    # applying max abs scaler\n",
    "    if maxabs_scaler is None:\n",
    "        maxabs_scaler = MaxAbsScaler().fit(data_train)\n",
    "        # save preprocessor model\n",
    "        joblib.dump(maxabs_scaler, os.path.join('gan_preprocessors', MODEL_NAME) + \"_maxabs_preprocessor.pkl\")\n",
    "        \n",
    "    data_train = pd.DataFrame(maxabs_scaler.transform(data_train),\n",
    "                              columns=data_train.columns)\n",
    "    data_val = pd.DataFrame(maxabs_scaler.transform(data_val),\n",
    "                            columns=data_val.columns)\n",
    "    data_test = pd.DataFrame(maxabs_scaler.transform(data_test),\n",
    "                            columns=data_test.columns)\n",
    "    \n",
    "    # get back pid column\n",
    "    data_train[\"pid\"] = pid_train\n",
    "    data_val[\"pid\"] = pid_val\n",
    "    data_test[\"pid\"] = pid_test\n",
    "    \n",
    "    return data_train, data_val, data_test, robust_scaler, max_abs_scaler"
   ]
  },
  {
   "cell_type": "code",
   "execution_count": 17,
   "metadata": {},
   "outputs": [
    {
     "name": "stderr",
     "output_type": "stream",
     "text": [
      "/usr/local/lib/python3.6/dist-packages/pandas/core/frame.py:4102: SettingWithCopyWarning: \n",
      "A value is trying to be set on a copy of a slice from a DataFrame\n",
      "\n",
      "See the caveats in the documentation: http://pandas.pydata.org/pandas-docs/stable/user_guide/indexing.html#returning-a-view-versus-a-copy\n",
      "  errors=errors,\n"
     ]
    }
   ],
   "source": [
    "# leave only data corresponding to one PID that we will build GAN for\n",
    "data_pid = data_all_pids[data_all_pids.pid == PID_NAME]\n",
    "try:\n",
    "    robust_scaler = joblib.load(os.path.join('gan_preprocessors', MODEL_NAME) + \"_robust_preprocessor.pkl\") \n",
    "    max_abs_scaler = joblib.load(os.path.join('gan_preprocessors', MODEL_NAME) + \"_maxabs_preprocessor.pkl\")\n",
    "except:\n",
    "    robust_scaler, max_abs_scaler = None, None\n",
    "data_train, data_val, data_test, robust_scaler, max_abs_scaler = split_and_scale(data_pid, robust_scaler, max_abs_scaler)"
   ]
  },
  {
   "cell_type": "code",
   "execution_count": 18,
   "metadata": {},
   "outputs": [],
   "source": [
    "# don't need this for GAN\n",
    "data_train.drop(\"pid\", axis=1, inplace=True)\n",
    "data_val.drop(\"pid\", axis=1, inplace=True)\n",
    "data_test.drop(\"pid\", axis=1, inplace=True)"
   ]
  },
  {
   "cell_type": "code",
   "execution_count": 19,
   "metadata": {},
   "outputs": [],
   "source": [
    "aux_columns = vars_list_aux"
   ]
  },
  {
   "cell_type": "markdown",
   "metadata": {},
   "source": [
    "Let's look at the distributions of the features:"
   ]
  },
  {
   "cell_type": "code",
   "execution_count": 20,
   "metadata": {},
   "outputs": [
    {
     "data": {
      "image/png": "[encoded data removed]",
      "text/plain": [
       "<Figure size 360x1080 with 3 Axes>"
      ]
     },
     "metadata": {
      "needs_background": "light"
     },
     "output_type": "display_data"
    }
   ],
   "source": [
    "fig, axes = plt.subplots(3, 1, figsize=(5, 15))\n",
    "for feature_name, ax in zip(vars_list_input, axes):\n",
    "    _, bins, _ = ax.hist(data_train[feature_name].values, bins=100, label=\"train\", density=True)\n",
    "    ax.hist(data_val[feature_name].values, bins=bins, label=\"val\", alpha=0.5, density=True)\n",
    "    ax.legend()\n",
    "plt.show()"
   ]
  },
  {
   "cell_type": "markdown",
   "metadata": {},
   "source": [
    "## 2. Building GAN"
   ]
  },
  {
   "cell_type": "code",
   "execution_count": 21,
   "metadata": {},
   "outputs": [],
   "source": [
    "# rearrange columns to make them be in similar order\n",
    "data_train = data_train[in_columns+out_columns]\n",
    "data_val = data_val[in_columns+out_columns]\n",
    "data_test = data_test[in_columns+out_columns]"
   ]
  },
  {
   "cell_type": "code",
   "execution_count": 22,
   "metadata": {},
   "outputs": [],
   "source": [
    "tf.reset_default_graph()"
   ]
  },
  {
   "cell_type": "code",
   "execution_count": 23,
   "metadata": {},
   "outputs": [],
   "source": [
    "def get_tf_dataset(dataset, batch_size):\n",
    "    shuffler = tf.contrib.data.shuffle_and_repeat(dataset.shape[0])\n",
    "    shuffled_ds = shuffler(tf.data.Dataset.from_tensor_slices(dataset))\n",
    "    return tf.compat.v1.data.make_one_shot_iterator(shuffled_ds.batch(batch_size).prefetch(1)).get_next()"
   ]
  },
  {
   "cell_type": "code",
   "execution_count": 24,
   "metadata": {},
   "outputs": [
    {
     "name": "stdout",
     "output_type": "stream",
     "text": [
      "WARNING:tensorflow:From /home/weisser/.local/lib/python3.6/site-packages/keras/backend/tensorflow_backend.py:74: The name tf.get_default_graph is deprecated. Please use tf.compat.v1.get_default_graph instead.\n",
      "\n",
      "WARNING:tensorflow:From /home/weisser/.local/lib/python3.6/site-packages/keras/backend/tensorflow_backend.py:517: The name tf.placeholder is deprecated. Please use tf.compat.v1.placeholder instead.\n",
      "\n",
      "WARNING:tensorflow:From /home/weisser/.local/lib/python3.6/site-packages/keras/backend/tensorflow_backend.py:4138: The name tf.random_uniform is deprecated. Please use tf.random.uniform instead.\n",
      "\n"
     ]
    }
   ],
   "source": [
    "tf.compat.v1.disable_eager_execution()\n",
    "def get_dense(num_layers):\n",
    "    return [ll.Dense(80, activation='relu') for i in range(num_layers)]\n",
    "\n",
    "CRAMER_DIM = 150\n",
    "\n",
    "critic = keras.models.Sequential(\n",
    "        [ll.InputLayer([OUT_DIM + IN_DIM])] + get_dense(3) +\n",
    "            [ll.Dense(CRAMER_DIM)])\n",
    "generator = keras.models.Sequential(\n",
    "        [ll.InputLayer([LATENT_DIMENSIONS + IN_DIM])] + get_dense(3) +\n",
    "            [ll.Dense(OUT_DIM)])"
   ]
  },
  {
   "cell_type": "code",
   "execution_count": 25,
   "metadata": {},
   "outputs": [
    {
     "name": "stdout",
     "output_type": "stream",
     "text": [
      "WARNING:tensorflow:\n",
      "The TensorFlow contrib module will not be included in TensorFlow 2.0.\n",
      "For more information, please see:\n",
      "  * https://github.com/tensorflow/community/blob/master/rfcs/20180907-contrib-sunset.md\n",
      "  * https://github.com/tensorflow/addons\n",
      "  * https://github.com/tensorflow/io (for I/O related ops)\n",
      "If you depend on functionality not listed there, please file an issue.\n",
      "\n",
      "WARNING:tensorflow:From <ipython-input-23-cfc59ef5698c>:2: shuffle_and_repeat (from tensorflow.contrib.data.python.ops.shuffle_ops) is deprecated and will be removed in a future version.\n",
      "Instructions for updating:\n",
      "Use `tf.data.experimental.shuffle_and_repeat(...)`.\n",
      "WARNING:tensorflow:From /home/weisser/.local/lib/python3.6/site-packages/tensorflow_core/contrib/data/python/ops/shuffle_ops.py:54: shuffle_and_repeat (from tensorflow.python.data.experimental.ops.shuffle_ops) is deprecated and will be removed in a future version.\n",
      "Instructions for updating:\n",
      "Use `tf.data.Dataset.shuffle(buffer_size, seed)` followed by `tf.data.Dataset.repeat(count)`. Static tf.data optimizations will take care of using the fused implementation.\n"
     ]
    }
   ],
   "source": [
    "X_train_full = data_train[in_columns+out_columns]\n",
    "X_train_input = data_train[in_columns]\n",
    "\n",
    "X_train_input_tf1 = get_tf_dataset(X_train_input, BATCH_SIZE)\n",
    "X_train_input_tf2 = get_tf_dataset(X_train_input, BATCH_SIZE)\n",
    "X_train_full_tf = get_tf_dataset(X_train_full, BATCH_SIZE)"
   ]
  },
  {
   "cell_type": "code",
   "execution_count": 26,
   "metadata": {},
   "outputs": [],
   "source": [
    "def cramer_critic(x, y):\n",
    "    discriminated_x = critic(x)\n",
    "    return tf.norm(discriminated_x - critic(y), axis=1) - tf.norm(discriminated_x, axis=1)"
   ]
  },
  {
   "cell_type": "code",
   "execution_count": 27,
   "metadata": {},
   "outputs": [],
   "source": [
    "noise_1 = tf.random_normal([tf.shape(X_train_input_tf1)[0], LATENT_DIMENSIONS], name='noise1')\n",
    "noise_2 = tf.random_normal([tf.shape(X_train_input_tf2)[0], LATENT_DIMENSIONS], name='noise2')\n",
    "\n",
    "generated_out_1 = generator(tf.concat([noise_1, tf.cast(X_train_input_tf1, tf.float32)], axis=1))\n",
    "generated_full_1 = tf.concat([tf.cast(X_train_input_tf1, tf.float32), generated_out_1], axis=1)\n",
    "\n",
    "generated_out_2 = generator(tf.concat([noise_2, tf.cast(X_train_input_tf2, tf.float32)], axis=1))\n",
    "generated_full_2 = tf.concat([tf.cast(X_train_input_tf2, tf.float32), generated_out_2], axis=1)"
   ]
  },
  {
   "cell_type": "code",
   "execution_count": 28,
   "metadata": {},
   "outputs": [],
   "source": [
    "generator_loss = tf.reduce_mean(cramer_critic(tf.cast(X_train_full_tf, tf.float32), generated_full_2)\n",
    "                                - cramer_critic(generated_full_1, generated_full_2))"
   ]
  },
  {
   "cell_type": "code",
   "execution_count": 29,
   "metadata": {},
   "outputs": [],
   "source": [
    "with tf.name_scope(\"gradient_loss\"):\n",
    "    alpha = tf.random_uniform(shape=[tf.shape(X_train_full_tf)[0], 1], minval=0., maxval=1.)\n",
    "    interpolates = alpha*tf.cast(X_train_full_tf, tf.float32) + (1.-alpha)*generated_full_1\n",
    "    disc_interpolates = cramer_critic(interpolates, generated_full_2)\n",
    "    gradients = tf.gradients(disc_interpolates, [interpolates])[0]\n",
    "    slopes = tf.norm(tf.reshape(gradients, [tf.shape(gradients)[0], -1]), axis=1)\n",
    "    gradient_penalty = tf.reduce_mean(tf.square(tf.maximum(tf.abs(slopes) - 1, 0)))"
   ]
  },
  {
   "cell_type": "code",
   "execution_count": 30,
   "metadata": {},
   "outputs": [
    {
     "name": "stdout",
     "output_type": "stream",
     "text": [
      "WARNING:tensorflow:From /home/weisser/.local/lib/python3.6/site-packages/tensorflow_core/python/ops/math_grad.py:1424: where (from tensorflow.python.ops.array_ops) is deprecated and will be removed in a future version.\n",
      "Instructions for updating:\n",
      "Use tf.where in 2.0, which has the same broadcast rule as np.where\n",
      "WARNING:tensorflow:From /home/weisser/.local/lib/python3.6/site-packages/tensorflow_core/python/training/rmsprop.py:119: calling Ones.__init__ (from tensorflow.python.ops.init_ops) with dtype is deprecated and will be removed in a future version.\n",
      "Instructions for updating:\n",
      "Call initializer instance with the dtype argument instead of passing it to the constructor\n"
     ]
    }
   ],
   "source": [
    "tf_iter = tf.Variable(initial_value=0, dtype=tf.int32)\n",
    "lambda_tf = 20 / np.pi * 2 * tf.atan(tf.cast(tf_iter, tf.float32)/1e4)\n",
    "critic_loss = lambda_tf*gradient_penalty - generator_loss\n",
    "learning_rate = tf.train.exponential_decay(5e-4, tf_iter, 100, 0.99)\n",
    "optimizer = tf.train.RMSPropOptimizer(learning_rate)\n",
    "critic_train_op = optimizer.minimize(critic_loss, var_list=critic.trainable_weights)\n",
    "generator_train_op = tf.group(\n",
    "    optimizer.minimize(generator_loss, var_list=generator.trainable_weights),\n",
    "    tf.assign_add(tf_iter, 1))"
   ]
  },
  {
   "cell_type": "code",
   "execution_count": 31,
   "metadata": {},
   "outputs": [],
   "source": [
    "tf.summary.scalar(\"critic_loss\", tf.reshape(critic_loss, []))\n",
    "tf.summary.scalar(\"generator_loss\", tf.reshape(generator_loss, []))\n",
    "tf.summary.scalar(\"learning_rate\", learning_rate)\n",
    "tf.summary.scalar(\"lambda\", lambda_tf)\n",
    "merged_summary = tf.summary.merge_all()"
   ]
  },
  {
   "cell_type": "code",
   "execution_count": 32,
   "metadata": {},
   "outputs": [],
   "source": [
    "# may vary, the more is the better\n",
    "N_VAL = int(1.3e4)\n",
    "validation_np = data_val.sample(N_VAL).values"
   ]
  },
  {
   "cell_type": "code",
   "execution_count": 33,
   "metadata": {},
   "outputs": [],
   "source": [
    "var_init = tf.global_variables_initializer()\n",
    "weights_saver = tf.train.Saver()"
   ]
  },
  {
   "cell_type": "code",
   "execution_count": 34,
   "metadata": {},
   "outputs": [],
   "source": [
    "tf.get_default_graph().finalize()"
   ]
  },
  {
   "cell_type": "markdown",
   "metadata": {},
   "source": [
    "## 3. Training GAN"
   ]
  },
  {
   "cell_type": "code",
   "execution_count": 35,
   "metadata": {},
   "outputs": [],
   "source": [
    "LOGDIR = \"./tensorboard_logdir\"\n",
    "CRITIC_ITERATIONS_CONST = 15\n",
    "CRITIC_ITERATIONS_VAR = 0\n",
    "TOTAL_ITERATIONS = int(2e5)\n",
    "VALIDATION_INTERVAL = 100\n",
    "MODEL_WEIGHTS_FILE = \"./weights/%s.ckpt\" % MODEL_NAME\n",
    "train_writer = tf.summary.FileWriter(os.path.join(LOGDIR, MODEL_NAME, \"train\"))\n",
    "test_writer = tf.summary.FileWriter(os.path.join(LOGDIR, MODEL_NAME, \"test\"))\n",
    "critic_policy = lambda i: (\n",
    "    CRITIC_ITERATIONS_CONST + (CRITIC_ITERATIONS_VAR * (TOTAL_ITERATIONS - i)) // TOTAL_ITERATIONS)"
   ]
  },
  {
   "cell_type": "code",
   "execution_count": 36,
   "metadata": {},
   "outputs": [
    {
     "name": "stdout",
     "output_type": "stream",
     "text": [
      "_________________________________________________________________\n",
      "Layer (type)                 Output Shape              Param #   \n",
      "=================================================================\n",
      "dense_5 (Dense)              (None, 80)                800       \n",
      "_________________________________________________________________\n",
      "dense_6 (Dense)              (None, 80)                6480      \n",
      "_________________________________________________________________\n",
      "dense_7 (Dense)              (None, 80)                6480      \n",
      "_________________________________________________________________\n",
      "dense_8 (Dense)              (None, 3)                 243       \n",
      "=================================================================\n",
      "Total params: 14,003\n",
      "Trainable params: 14,003\n",
      "Non-trainable params: 0\n",
      "_________________________________________________________________\n"
     ]
    }
   ],
   "source": [
    "generator.summary()"
   ]
  },
  {
   "cell_type": "code",
   "execution_count": 37,
   "metadata": {
    "scrolled": true
   },
   "outputs": [
    {
     "data": {
      "image/png": "[encoded data removed]",
      "text/plain": [
       "<Figure size 360x1080 with 3 Axes>"
      ]
     },
     "metadata": {
      "needs_background": "light"
     },
     "output_type": "display_data"
    },
    {
     "data": {
      "image/png": "[encoded data removed]",
      "text/plain": [
       "<Figure size 324x360 with 1 Axes>"
      ]
     },
     "metadata": {
      "needs_background": "light"
     },
     "output_type": "display_data"
    },
    {
     "data": {
      "text/plain": [
       "<Figure size 432x288 with 0 Axes>"
      ]
     },
     "metadata": {},
     "output_type": "display_data"
    },
    {
     "data": {
      "image/png": "[encoded data removed]",
      "text/plain": [
       "<Figure size 324x360 with 1 Axes>"
      ]
     },
     "metadata": {
      "needs_background": "light"
     },
     "output_type": "display_data"
    },
    {
     "data": {
      "text/plain": [
       "<Figure size 432x288 with 0 Axes>"
      ]
     },
     "metadata": {},
     "output_type": "display_data"
    },
    {
     "data": {
      "image/png": "[encoded data removed]",
      "text/plain": [
       "<Figure size 324x360 with 1 Axes>"
      ]
     },
     "metadata": {
      "needs_background": "light"
     },
     "output_type": "display_data"
    },
    {
     "ename": "KeyboardInterrupt",
     "evalue": "",
     "output_type": "error",
     "traceback": [
      "\u001b[0;31m---------------------------------------------------------------------------\u001b[0m",
      "\u001b[0;31mKeyboardInterrupt\u001b[0m                         Traceback (most recent call last)",
      "\u001b[0;32m<ipython-input-37-a56bf5d2d273>\u001b[0m in \u001b[0;36m<module>\u001b[0;34m\u001b[0m\n\u001b[1;32m      8\u001b[0m     \u001b[0;32mfor\u001b[0m \u001b[0mi\u001b[0m \u001b[0;32min\u001b[0m \u001b[0mrange\u001b[0m\u001b[0;34m(\u001b[0m\u001b[0mTOTAL_ITERATIONS\u001b[0m\u001b[0;34m)\u001b[0m\u001b[0;34m:\u001b[0m\u001b[0;34m\u001b[0m\u001b[0;34m\u001b[0m\u001b[0m\n\u001b[1;32m      9\u001b[0m         \u001b[0;32mfor\u001b[0m \u001b[0mj\u001b[0m \u001b[0;32min\u001b[0m \u001b[0mrange\u001b[0m\u001b[0;34m(\u001b[0m\u001b[0mcritic_policy\u001b[0m\u001b[0;34m(\u001b[0m\u001b[0mi\u001b[0m\u001b[0;34m)\u001b[0m\u001b[0;34m)\u001b[0m\u001b[0;34m:\u001b[0m\u001b[0;34m\u001b[0m\u001b[0;34m\u001b[0m\u001b[0m\n\u001b[0;32m---> 10\u001b[0;31m             \u001b[0msess\u001b[0m\u001b[0;34m.\u001b[0m\u001b[0mrun\u001b[0m\u001b[0;34m(\u001b[0m\u001b[0mcritic_train_op\u001b[0m\u001b[0;34m)\u001b[0m\u001b[0;34m\u001b[0m\u001b[0;34m\u001b[0m\u001b[0m\n\u001b[0m\u001b[1;32m     11\u001b[0m         \u001b[0mtrain_summary\u001b[0m\u001b[0;34m,\u001b[0m \u001b[0m_\u001b[0m\u001b[0;34m,\u001b[0m \u001b[0minteration\u001b[0m \u001b[0;34m=\u001b[0m \u001b[0msess\u001b[0m\u001b[0;34m.\u001b[0m\u001b[0mrun\u001b[0m\u001b[0;34m(\u001b[0m\u001b[0;34m[\u001b[0m\u001b[0mmerged_summary\u001b[0m\u001b[0;34m,\u001b[0m \u001b[0mgenerator_train_op\u001b[0m\u001b[0;34m,\u001b[0m \u001b[0mtf_iter\u001b[0m\u001b[0;34m]\u001b[0m\u001b[0;34m)\u001b[0m\u001b[0;34m\u001b[0m\u001b[0;34m\u001b[0m\u001b[0m\n\u001b[1;32m     12\u001b[0m         \u001b[0mtrain_writer\u001b[0m\u001b[0;34m.\u001b[0m\u001b[0madd_summary\u001b[0m\u001b[0;34m(\u001b[0m\u001b[0mtrain_summary\u001b[0m\u001b[0;34m,\u001b[0m \u001b[0minteration\u001b[0m\u001b[0;34m)\u001b[0m\u001b[0;34m\u001b[0m\u001b[0;34m\u001b[0m\u001b[0m\n",
      "\u001b[0;32m~/.local/lib/python3.6/site-packages/tensorflow_core/python/client/session.py\u001b[0m in \u001b[0;36mrun\u001b[0;34m(self, fetches, feed_dict, options, run_metadata)\u001b[0m\n\u001b[1;32m    954\u001b[0m     \u001b[0;32mtry\u001b[0m\u001b[0;34m:\u001b[0m\u001b[0;34m\u001b[0m\u001b[0;34m\u001b[0m\u001b[0m\n\u001b[1;32m    955\u001b[0m       result = self._run(None, fetches, feed_dict, options_ptr,\n\u001b[0;32m--> 956\u001b[0;31m                          run_metadata_ptr)\n\u001b[0m\u001b[1;32m    957\u001b[0m       \u001b[0;32mif\u001b[0m \u001b[0mrun_metadata\u001b[0m\u001b[0;34m:\u001b[0m\u001b[0;34m\u001b[0m\u001b[0;34m\u001b[0m\u001b[0m\n\u001b[1;32m    958\u001b[0m         \u001b[0mproto_data\u001b[0m \u001b[0;34m=\u001b[0m \u001b[0mtf_session\u001b[0m\u001b[0;34m.\u001b[0m\u001b[0mTF_GetBuffer\u001b[0m\u001b[0;34m(\u001b[0m\u001b[0mrun_metadata_ptr\u001b[0m\u001b[0;34m)\u001b[0m\u001b[0;34m\u001b[0m\u001b[0;34m\u001b[0m\u001b[0m\n",
      "\u001b[0;32m~/.local/lib/python3.6/site-packages/tensorflow_core/python/client/session.py\u001b[0m in \u001b[0;36m_run\u001b[0;34m(self, handle, fetches, feed_dict, options, run_metadata)\u001b[0m\n\u001b[1;32m   1178\u001b[0m     \u001b[0;32mif\u001b[0m \u001b[0mfinal_fetches\u001b[0m \u001b[0;32mor\u001b[0m \u001b[0mfinal_targets\u001b[0m \u001b[0;32mor\u001b[0m \u001b[0;34m(\u001b[0m\u001b[0mhandle\u001b[0m \u001b[0;32mand\u001b[0m \u001b[0mfeed_dict_tensor\u001b[0m\u001b[0;34m)\u001b[0m\u001b[0;34m:\u001b[0m\u001b[0;34m\u001b[0m\u001b[0;34m\u001b[0m\u001b[0m\n\u001b[1;32m   1179\u001b[0m       results = self._do_run(handle, final_targets, final_fetches,\n\u001b[0;32m-> 1180\u001b[0;31m                              feed_dict_tensor, options, run_metadata)\n\u001b[0m\u001b[1;32m   1181\u001b[0m     \u001b[0;32melse\u001b[0m\u001b[0;34m:\u001b[0m\u001b[0;34m\u001b[0m\u001b[0;34m\u001b[0m\u001b[0m\n\u001b[1;32m   1182\u001b[0m       \u001b[0mresults\u001b[0m \u001b[0;34m=\u001b[0m \u001b[0;34m[\u001b[0m\u001b[0;34m]\u001b[0m\u001b[0;34m\u001b[0m\u001b[0;34m\u001b[0m\u001b[0m\n",
      "\u001b[0;32m~/.local/lib/python3.6/site-packages/tensorflow_core/python/client/session.py\u001b[0m in \u001b[0;36m_do_run\u001b[0;34m(self, handle, target_list, fetch_list, feed_dict, options, run_metadata)\u001b[0m\n\u001b[1;32m   1357\u001b[0m     \u001b[0;32mif\u001b[0m \u001b[0mhandle\u001b[0m \u001b[0;32mis\u001b[0m \u001b[0;32mNone\u001b[0m\u001b[0;34m:\u001b[0m\u001b[0;34m\u001b[0m\u001b[0;34m\u001b[0m\u001b[0m\n\u001b[1;32m   1358\u001b[0m       return self._do_call(_run_fn, feeds, fetches, targets, options,\n\u001b[0;32m-> 1359\u001b[0;31m                            run_metadata)\n\u001b[0m\u001b[1;32m   1360\u001b[0m     \u001b[0;32melse\u001b[0m\u001b[0;34m:\u001b[0m\u001b[0;34m\u001b[0m\u001b[0;34m\u001b[0m\u001b[0m\n\u001b[1;32m   1361\u001b[0m       \u001b[0;32mreturn\u001b[0m \u001b[0mself\u001b[0m\u001b[0;34m.\u001b[0m\u001b[0m_do_call\u001b[0m\u001b[0;34m(\u001b[0m\u001b[0m_prun_fn\u001b[0m\u001b[0;34m,\u001b[0m \u001b[0mhandle\u001b[0m\u001b[0;34m,\u001b[0m \u001b[0mfeeds\u001b[0m\u001b[0;34m,\u001b[0m \u001b[0mfetches\u001b[0m\u001b[0;34m)\u001b[0m\u001b[0;34m\u001b[0m\u001b[0;34m\u001b[0m\u001b[0m\n",
      "\u001b[0;32m~/.local/lib/python3.6/site-packages/tensorflow_core/python/client/session.py\u001b[0m in \u001b[0;36m_do_call\u001b[0;34m(self, fn, *args)\u001b[0m\n\u001b[1;32m   1363\u001b[0m   \u001b[0;32mdef\u001b[0m \u001b[0m_do_call\u001b[0m\u001b[0;34m(\u001b[0m\u001b[0mself\u001b[0m\u001b[0;34m,\u001b[0m \u001b[0mfn\u001b[0m\u001b[0;34m,\u001b[0m \u001b[0;34m*\u001b[0m\u001b[0margs\u001b[0m\u001b[0;34m)\u001b[0m\u001b[0;34m:\u001b[0m\u001b[0;34m\u001b[0m\u001b[0;34m\u001b[0m\u001b[0m\n\u001b[1;32m   1364\u001b[0m     \u001b[0;32mtry\u001b[0m\u001b[0;34m:\u001b[0m\u001b[0;34m\u001b[0m\u001b[0;34m\u001b[0m\u001b[0m\n\u001b[0;32m-> 1365\u001b[0;31m       \u001b[0;32mreturn\u001b[0m \u001b[0mfn\u001b[0m\u001b[0;34m(\u001b[0m\u001b[0;34m*\u001b[0m\u001b[0margs\u001b[0m\u001b[0;34m)\u001b[0m\u001b[0;34m\u001b[0m\u001b[0;34m\u001b[0m\u001b[0m\n\u001b[0m\u001b[1;32m   1366\u001b[0m     \u001b[0;32mexcept\u001b[0m \u001b[0merrors\u001b[0m\u001b[0;34m.\u001b[0m\u001b[0mOpError\u001b[0m \u001b[0;32mas\u001b[0m \u001b[0me\u001b[0m\u001b[0;34m:\u001b[0m\u001b[0;34m\u001b[0m\u001b[0;34m\u001b[0m\u001b[0m\n\u001b[1;32m   1367\u001b[0m       \u001b[0mmessage\u001b[0m \u001b[0;34m=\u001b[0m \u001b[0mcompat\u001b[0m\u001b[0;34m.\u001b[0m\u001b[0mas_text\u001b[0m\u001b[0;34m(\u001b[0m\u001b[0me\u001b[0m\u001b[0;34m.\u001b[0m\u001b[0mmessage\u001b[0m\u001b[0;34m)\u001b[0m\u001b[0;34m\u001b[0m\u001b[0;34m\u001b[0m\u001b[0m\n",
      "\u001b[0;32m~/.local/lib/python3.6/site-packages/tensorflow_core/python/client/session.py\u001b[0m in \u001b[0;36m_run_fn\u001b[0;34m(feed_dict, fetch_list, target_list, options, run_metadata)\u001b[0m\n\u001b[1;32m   1348\u001b[0m       \u001b[0mself\u001b[0m\u001b[0;34m.\u001b[0m\u001b[0m_extend_graph\u001b[0m\u001b[0;34m(\u001b[0m\u001b[0;34m)\u001b[0m\u001b[0;34m\u001b[0m\u001b[0;34m\u001b[0m\u001b[0m\n\u001b[1;32m   1349\u001b[0m       return self._call_tf_sessionrun(options, feed_dict, fetch_list,\n\u001b[0;32m-> 1350\u001b[0;31m                                       target_list, run_metadata)\n\u001b[0m\u001b[1;32m   1351\u001b[0m \u001b[0;34m\u001b[0m\u001b[0m\n\u001b[1;32m   1352\u001b[0m     \u001b[0;32mdef\u001b[0m \u001b[0m_prun_fn\u001b[0m\u001b[0;34m(\u001b[0m\u001b[0mhandle\u001b[0m\u001b[0;34m,\u001b[0m \u001b[0mfeed_dict\u001b[0m\u001b[0;34m,\u001b[0m \u001b[0mfetch_list\u001b[0m\u001b[0;34m)\u001b[0m\u001b[0;34m:\u001b[0m\u001b[0;34m\u001b[0m\u001b[0;34m\u001b[0m\u001b[0m\n",
      "\u001b[0;32m~/.local/lib/python3.6/site-packages/tensorflow_core/python/client/session.py\u001b[0m in \u001b[0;36m_call_tf_sessionrun\u001b[0;34m(self, options, feed_dict, fetch_list, target_list, run_metadata)\u001b[0m\n\u001b[1;32m   1441\u001b[0m     return tf_session.TF_SessionRun_wrapper(self._session, options, feed_dict,\n\u001b[1;32m   1442\u001b[0m                                             \u001b[0mfetch_list\u001b[0m\u001b[0;34m,\u001b[0m \u001b[0mtarget_list\u001b[0m\u001b[0;34m,\u001b[0m\u001b[0;34m\u001b[0m\u001b[0;34m\u001b[0m\u001b[0m\n\u001b[0;32m-> 1443\u001b[0;31m                                             run_metadata)\n\u001b[0m\u001b[1;32m   1444\u001b[0m \u001b[0;34m\u001b[0m\u001b[0m\n\u001b[1;32m   1445\u001b[0m   \u001b[0;32mdef\u001b[0m \u001b[0m_call_tf_sessionprun\u001b[0m\u001b[0;34m(\u001b[0m\u001b[0mself\u001b[0m\u001b[0;34m,\u001b[0m \u001b[0mhandle\u001b[0m\u001b[0;34m,\u001b[0m \u001b[0mfeed_dict\u001b[0m\u001b[0;34m,\u001b[0m \u001b[0mfetch_list\u001b[0m\u001b[0;34m)\u001b[0m\u001b[0;34m:\u001b[0m\u001b[0;34m\u001b[0m\u001b[0;34m\u001b[0m\u001b[0m\n",
      "\u001b[0;31mKeyboardInterrupt\u001b[0m: "
     ]
    },
    {
     "data": {
      "text/plain": [
       "<Figure size 432x288 with 0 Axes>"
      ]
     },
     "metadata": {},
     "output_type": "display_data"
    }
   ],
   "source": [
    "with tf.Session(config=tf_config) as sess:\n",
    "    sess.run(var_init)\n",
    "    try:\n",
    "        weights_saver.restore(sess, MODEL_WEIGHTS_FILE)\n",
    "    except Exception as e:\n",
    "        print(\"Can't restore parameters: no file with weights\")\n",
    "        print(e)\n",
    "    for i in range(TOTAL_ITERATIONS):\n",
    "        for j in range(critic_policy(i)):\n",
    "            sess.run(critic_train_op)\n",
    "        train_summary, _, interation = sess.run([merged_summary, generator_train_op, tf_iter])\n",
    "        train_writer.add_summary(train_summary, interation)\n",
    "        \n",
    "        # generate validation distribution and compare to the truth one\n",
    "        if i % VALIDATION_INTERVAL == 0:\n",
    "            print(\"i \",i)\n",
    "            clear_output(False)\n",
    "            test_summary, test_generated = sess.run([merged_summary, generated_out_1], {\n",
    "                X_train_input_tf1: validation_np[:, :len(in_columns)],\n",
    "                X_train_input_tf2: validation_np[:, :len(in_columns)], X_train_full_tf: validation_np})\n",
    "            try:\n",
    "                fig, axes = plt.subplots(3, 1, figsize=(5, 3*5))\n",
    "                for INDEX, ax in zip((0, 1, 2), axes):\n",
    "                    _, bins, _ = ax.hist(validation_np[:, INDEX+len(in_columns)], bins=100, label=\"data\", density=True)\n",
    "                    ax.hist(test_generated[:, INDEX], bins=bins, label=\"generated\", alpha=0.5, density=True)\n",
    "                    ax.legend()\n",
    "                    ax.set_title(out_columns[INDEX]+\" iteration {}\".format(i))\n",
    "                plt.show()\n",
    "                if not os.path.exists('plots'):\n",
    "                    os.makedirs('plots')\n",
    "                fig.savefig('./plots/{}.png'.format(MODEL_NAME))\n",
    "                if True:\n",
    "                    for INDEX, INDEX_name in zip((0, 1, 2), (\"PIDe\", \"PIDmu\", \"log10( ProbNNk )\")):\n",
    "                        plt.figure(figsize=(4.5, 5))\n",
    "                        if INDEX==2:\n",
    "                            _, bins, _ = plt.hist(np.log10(sigmoid(validation_np[:, INDEX+len(in_columns)])), bins=100, label=\"data\", density=True)\n",
    "                            plt.hist(np.log10(sigmoid(test_generated[:, INDEX])), bins=bins, label=\"generated\", alpha=0.5, density=True)\n",
    "                        else:\n",
    "                            _, bins, _ = plt.hist(validation_np[:, INDEX+len(in_columns)], bins=100, label=\"data\", density=True)\n",
    "                            plt.hist(test_generated[:, INDEX], bins=bins, label=\"generated\", alpha=0.5, density=True)\n",
    "                        plt.legend()\n",
    "                        plt.title(INDEX_name+\" iteration {}\".format(i))\n",
    "                        plt.savefig('./plots/{}_test_{}.png'.format(MODEL_NAME,INDEX))\n",
    "                        plt.show()\n",
    "                        plt.clf()\n",
    "            except Exception as e:\n",
    "                print(e)\n",
    "                weights_saver.restore(sess, MODEL_WEIGHTS_FILE)\n",
    "                continue\n",
    "            \n",
    "            test_writer.add_summary(test_summary, interation)\n",
    "            weights_saver.save(sess, MODEL_WEIGHTS_FILE)"
   ]
  },
  {
   "cell_type": "code",
   "execution_count": 38,
   "metadata": {},
   "outputs": [
    {
     "name": "stdout",
     "output_type": "stream",
     "text": [
      "Number of iterations trained 22\n"
     ]
    }
   ],
   "source": [
    "print(\"Number of iterations trained {}\".format(i))"
   ]
  },
  {
   "cell_type": "markdown",
   "metadata": {},
   "source": [
    "After training, let's check distribution generated by GAN for test examples:"
   ]
  },
  {
   "cell_type": "code",
   "execution_count": 39,
   "metadata": {
    "scrolled": true
   },
   "outputs": [
    {
     "name": "stdout",
     "output_type": "stream",
     "text": [
      "Device mapping:\n",
      "/job:localhost/replica:0/task:0/device:XLA_CPU:0 -> device: XLA_CPU device\n",
      "/job:localhost/replica:0/task:0/device:XLA_GPU:0 -> device: XLA_GPU device\n",
      "/job:localhost/replica:0/task:0/device:GPU:0 -> device: 0, name: TITAN V, pci bus id: 0000:05:00.0, compute capability: 7.0\n",
      "\n",
      "INFO:tensorflow:Restoring parameters from ./weights/GAN_Kramer_pide_ksttrain_nspdsigpnnrestrnomix.ckpt\n"
     ]
    },
    {
     "data": {
      "image/png": "[encoded data removed]",
      "text/plain": [
       "<Figure size 360x1080 with 3 Axes>"
      ]
     },
     "metadata": {
      "needs_background": "light"
     },
     "output_type": "display_data"
    }
   ],
   "source": [
    "with tf.Session(config=tf_config) as sess:\n",
    "    sess.run(var_init)\n",
    "    try:\n",
    "        weights_saver.restore(sess, MODEL_WEIGHTS_FILE)\n",
    "    except tf.errors.NotFoundError:\n",
    "        print(\"Can't restore parameters: no file with weights\")\n",
    "    test_summary, test_generated = sess.run([merged_summary, generated_out_1], {\n",
    "        X_train_input_tf1: data_test.values[:, :len(in_columns)],\n",
    "        X_train_input_tf2: data_test.values[:, :len(in_columns)], X_train_full_tf: data_test})\n",
    "    fig, axes = plt.subplots(3, 1, figsize=(5, 15))\n",
    "    for INDEX, ax in zip((0, 1, 2), axes):\n",
    "        _, bins, _ = ax.hist(validation_np[:, INDEX+len(in_columns)], bins=100, label=\"data\", density=True)\n",
    "        ax.hist(test_generated[:, INDEX], bins=bins, label=\"generated\", alpha=0.5, density=True)\n",
    "        ax.legend()\n",
    "        ax.set_title(out_columns[INDEX])\n",
    "    plt.show()"
   ]
  },
  {
   "cell_type": "markdown",
   "metadata": {},
   "source": [
    "## 4. Save GAN weights and generated test data"
   ]
  },
  {
   "cell_type": "code",
   "execution_count": 40,
   "metadata": {},
   "outputs": [
    {
     "name": "stdout",
     "output_type": "stream",
     "text": [
      "Device mapping:\n",
      "/job:localhost/replica:0/task:0/device:XLA_CPU:0 -> device: XLA_CPU device\n",
      "/job:localhost/replica:0/task:0/device:XLA_GPU:0 -> device: XLA_GPU device\n",
      "/job:localhost/replica:0/task:0/device:GPU:0 -> device: 0, name: TITAN V, pci bus id: 0000:05:00.0, compute capability: 7.0\n",
      "\n",
      "INFO:tensorflow:Restoring parameters from ./weights/GAN_Kramer_pide_ksttrain_nspdsigpnnrestrnomix.ckpt\n"
     ]
    }
   ],
   "source": [
    "# saving GAN weights to pickle format\n",
    "import pickle\n",
    "with tf.Session(config=tf_config) as sess:\n",
    "    sess.run(var_init)\n",
    "    weights_saver.restore(sess, MODEL_WEIGHTS_FILE)\n",
    "    weights = sess.run(generator.weights)\n",
    "    output = open('./weights/{}.pkl'.format(MODEL_NAME), 'wb')\n",
    "    pickle.dump(weights, output)"
   ]
  },
  {
   "cell_type": "code",
   "execution_count": 41,
   "metadata": {},
   "outputs": [
    {
     "name": "stdout",
     "output_type": "stream",
     "text": [
      "GAN_Kramer_pide_ksttrain_nspdsigpnnrestrnomix\n"
     ]
    }
   ],
   "source": [
    "print(MODEL_NAME)\n",
    "try:\n",
    "    robust_scaler = joblib.load(os.path.join('gan_preprocessors', MODEL_NAME) + \"_robust_preprocessor.pkl\") \n",
    "    max_abs_scaler = joblib.load(os.path.join('gan_preprocessors', MODEL_NAME) + \"_maxabs_preprocessor.pkl\")\n",
    "except: print(\"fail\")"
   ]
  },
  {
   "cell_type": "markdown",
   "metadata": {},
   "source": [
    "apply inverse transformations of the preprocessors on GAN output on test data:"
   ]
  },
  {
   "cell_type": "code",
   "execution_count": 42,
   "metadata": {},
   "outputs": [],
   "source": [
    "test_transformed = max_abs_scaler.inverse_transform(np.concatenate([data_pid[vars_list_aux][:len(test_generated)].values, test_generated], axis=1))\n",
    "test_transformed = robust_scaler.inverse_transform(test_transformed)\n",
    "\n",
    "# save transformed test to csv\n",
    "df_temp_enc = pd.DataFrame(test_transformed[:, -len(out_columns):], columns=out_columns)\n",
    "df_temp_full_enc = pd.DataFrame(np.concatenate([df_temp_enc, data_test[['S6aux0', 'S0aux7', 'S0aux6', 'S3aux0', 'S2aux0', 'S5aux0']]], axis=1), columns=out_columns+['S6aux0','S0aux7', 'S0aux6', 'S3aux0', 'S2aux0', 'S5aux0'])\n",
    "\n"
   ]
  },
  {
   "cell_type": "code",
   "execution_count": 43,
   "metadata": {},
   "outputs": [],
   "source": [
    "#data_all_pids['GS0x7_invsigmoid'] = data_all_pids['GS0x7'].apply(inv_sigmoid)\n",
    "#data_all_pids.drop(\"GS0x7\", axis=1, inplace=True)\n",
    "df_temp_full_enc.insert(len(out_columns)-1+1,'GS0x7',df_temp_full_enc['GS0x7_invsigmoid'].apply(sigmoid))\n",
    "#df_temp_full_enc['GS0x7'] = data_all_pids['GS0x7_invsigmoid'].apply(sigmoid)\n",
    "df_temp_full_enc.drop(\"GS0x7_invsigmoid\", axis=1, inplace=True)"
   ]
  },
  {
   "cell_type": "code",
   "execution_count": 44,
   "metadata": {},
   "outputs": [],
   "source": [
    "df_temp_full_enc['pid'] = [PID_NAME]*len(df_temp_full_enc)\n",
    "if not os.path.exists('data'):\n",
    "    os.makedirs('data')\n",
    "df_temp_full_enc.to_csv(\"./data/generated_pid{}.csv\".format(MODEL_NAME), index=None)"
   ]
  },
  {
   "cell_type": "markdown",
   "metadata": {},
   "source": [
    "## 5. Test GAN / GEANT"
   ]
  },
  {
   "cell_type": "code",
   "execution_count": 45,
   "metadata": {},
   "outputs": [
    {
     "data": {
      "text/html": [
       "<div>\n",
       "<style scoped>\n",
       "    .dataframe tbody tr th:only-of-type {\n",
       "        vertical-align: middle;\n",
       "    }\n",
       "\n",
       "    .dataframe tbody tr th {\n",
       "        vertical-align: top;\n",
       "    }\n",
       "\n",
       "    .dataframe thead th {\n",
       "        text-align: right;\n",
       "    }\n",
       "</style>\n",
       "<table border=\"1\" class=\"dataframe\">\n",
       "  <thead>\n",
       "    <tr style=\"text-align: right;\">\n",
       "      <th></th>\n",
       "      <th>GS3x1</th>\n",
       "      <th>GS3x0</th>\n",
       "      <th>GS0x7</th>\n",
       "      <th>S6aux0</th>\n",
       "      <th>S0aux7</th>\n",
       "      <th>S0aux6</th>\n",
       "      <th>S3aux0</th>\n",
       "      <th>S2aux0</th>\n",
       "      <th>S5aux0</th>\n",
       "      <th>pid</th>\n",
       "    </tr>\n",
       "  </thead>\n",
       "  <tbody>\n",
       "    <tr>\n",
       "      <td>0</td>\n",
       "      <td>0.639884</td>\n",
       "      <td>2.680156</td>\n",
       "      <td>0.112037</td>\n",
       "      <td>0.354978</td>\n",
       "      <td>0.017272</td>\n",
       "      <td>0.149906</td>\n",
       "      <td>0.0</td>\n",
       "      <td>0.0</td>\n",
       "      <td>0.0</td>\n",
       "      <td>e</td>\n",
       "    </tr>\n",
       "    <tr>\n",
       "      <td>1</td>\n",
       "      <td>-2.052446</td>\n",
       "      <td>7.660658</td>\n",
       "      <td>0.000091</td>\n",
       "      <td>0.831169</td>\n",
       "      <td>-0.024804</td>\n",
       "      <td>-0.195772</td>\n",
       "      <td>0.0</td>\n",
       "      <td>0.0</td>\n",
       "      <td>0.0</td>\n",
       "      <td>e</td>\n",
       "    </tr>\n",
       "    <tr>\n",
       "      <td>2</td>\n",
       "      <td>4.130183</td>\n",
       "      <td>12.779299</td>\n",
       "      <td>0.010376</td>\n",
       "      <td>-0.238095</td>\n",
       "      <td>-0.029561</td>\n",
       "      <td>-0.499448</td>\n",
       "      <td>0.0</td>\n",
       "      <td>0.0</td>\n",
       "      <td>0.0</td>\n",
       "      <td>e</td>\n",
       "    </tr>\n",
       "    <tr>\n",
       "      <td>3</td>\n",
       "      <td>-1.582327</td>\n",
       "      <td>11.359552</td>\n",
       "      <td>0.000102</td>\n",
       "      <td>-0.476190</td>\n",
       "      <td>-0.005726</td>\n",
       "      <td>-0.409771</td>\n",
       "      <td>0.0</td>\n",
       "      <td>0.0</td>\n",
       "      <td>0.0</td>\n",
       "      <td>e</td>\n",
       "    </tr>\n",
       "    <tr>\n",
       "      <td>4</td>\n",
       "      <td>-2.285775</td>\n",
       "      <td>1.670054</td>\n",
       "      <td>0.436036</td>\n",
       "      <td>0.870130</td>\n",
       "      <td>0.090564</td>\n",
       "      <td>0.188366</td>\n",
       "      <td>0.0</td>\n",
       "      <td>0.0</td>\n",
       "      <td>0.0</td>\n",
       "      <td>e</td>\n",
       "    </tr>\n",
       "    <tr>\n",
       "      <td>...</td>\n",
       "      <td>...</td>\n",
       "      <td>...</td>\n",
       "      <td>...</td>\n",
       "      <td>...</td>\n",
       "      <td>...</td>\n",
       "      <td>...</td>\n",
       "      <td>...</td>\n",
       "      <td>...</td>\n",
       "      <td>...</td>\n",
       "      <td>...</td>\n",
       "    </tr>\n",
       "    <tr>\n",
       "      <td>5743</td>\n",
       "      <td>-4.366548</td>\n",
       "      <td>3.229307</td>\n",
       "      <td>0.000146</td>\n",
       "      <td>-0.030303</td>\n",
       "      <td>0.008017</td>\n",
       "      <td>0.012757</td>\n",
       "      <td>0.0</td>\n",
       "      <td>0.0</td>\n",
       "      <td>0.0</td>\n",
       "      <td>e</td>\n",
       "    </tr>\n",
       "    <tr>\n",
       "      <td>5744</td>\n",
       "      <td>-12.780606</td>\n",
       "      <td>8.022695</td>\n",
       "      <td>0.103170</td>\n",
       "      <td>-0.393939</td>\n",
       "      <td>-0.009871</td>\n",
       "      <td>0.206763</td>\n",
       "      <td>0.0</td>\n",
       "      <td>0.0</td>\n",
       "      <td>0.0</td>\n",
       "      <td>e</td>\n",
       "    </tr>\n",
       "    <tr>\n",
       "      <td>5745</td>\n",
       "      <td>-4.881328</td>\n",
       "      <td>5.699063</td>\n",
       "      <td>0.000148</td>\n",
       "      <td>-0.536797</td>\n",
       "      <td>0.028769</td>\n",
       "      <td>0.418133</td>\n",
       "      <td>0.0</td>\n",
       "      <td>0.0</td>\n",
       "      <td>0.0</td>\n",
       "      <td>e</td>\n",
       "    </tr>\n",
       "    <tr>\n",
       "      <td>5746</td>\n",
       "      <td>0.769074</td>\n",
       "      <td>6.650821</td>\n",
       "      <td>0.000056</td>\n",
       "      <td>0.848485</td>\n",
       "      <td>-0.024595</td>\n",
       "      <td>-0.542386</td>\n",
       "      <td>0.0</td>\n",
       "      <td>0.0</td>\n",
       "      <td>0.0</td>\n",
       "      <td>e</td>\n",
       "    </tr>\n",
       "    <tr>\n",
       "      <td>5747</td>\n",
       "      <td>-4.047426</td>\n",
       "      <td>4.013839</td>\n",
       "      <td>0.352621</td>\n",
       "      <td>0.255411</td>\n",
       "      <td>0.090923</td>\n",
       "      <td>0.563045</td>\n",
       "      <td>0.0</td>\n",
       "      <td>0.0</td>\n",
       "      <td>0.0</td>\n",
       "      <td>e</td>\n",
       "    </tr>\n",
       "  </tbody>\n",
       "</table>\n",
       "<p>5748 rows × 10 columns</p>\n",
       "</div>"
      ],
      "text/plain": [
       "          GS3x1      GS3x0     GS0x7    S6aux0    S0aux7    S0aux6  S3aux0  \\\n",
       "0      0.639884   2.680156  0.112037  0.354978  0.017272  0.149906     0.0   \n",
       "1     -2.052446   7.660658  0.000091  0.831169 -0.024804 -0.195772     0.0   \n",
       "2      4.130183  12.779299  0.010376 -0.238095 -0.029561 -0.499448     0.0   \n",
       "3     -1.582327  11.359552  0.000102 -0.476190 -0.005726 -0.409771     0.0   \n",
       "4     -2.285775   1.670054  0.436036  0.870130  0.090564  0.188366     0.0   \n",
       "...         ...        ...       ...       ...       ...       ...     ...   \n",
       "5743  -4.366548   3.229307  0.000146 -0.030303  0.008017  0.012757     0.0   \n",
       "5744 -12.780606   8.022695  0.103170 -0.393939 -0.009871  0.206763     0.0   \n",
       "5745  -4.881328   5.699063  0.000148 -0.536797  0.028769  0.418133     0.0   \n",
       "5746   0.769074   6.650821  0.000056  0.848485 -0.024595 -0.542386     0.0   \n",
       "5747  -4.047426   4.013839  0.352621  0.255411  0.090923  0.563045     0.0   \n",
       "\n",
       "      S2aux0  S5aux0 pid  \n",
       "0        0.0     0.0   e  \n",
       "1        0.0     0.0   e  \n",
       "2        0.0     0.0   e  \n",
       "3        0.0     0.0   e  \n",
       "4        0.0     0.0   e  \n",
       "...      ...     ...  ..  \n",
       "5743     0.0     0.0   e  \n",
       "5744     0.0     0.0   e  \n",
       "5745     0.0     0.0   e  \n",
       "5746     0.0     0.0   e  \n",
       "5747     0.0     0.0   e  \n",
       "\n",
       "[5748 rows x 10 columns]"
      ]
     },
     "execution_count": 45,
     "metadata": {},
     "output_type": "execute_result"
    }
   ],
   "source": [
    "# \"trks_EcalPIDe\": \"GS3x0\", \"trks_EcalPIDmu\": \"GS3x1\", \"trks_ProbNNk\": \"GS0x7\"\n",
    "# 'S6aux0', 'S5aux0', 'S3aux0', 'S2aux0', 'S0aux0', 'S0aux1', 'S0aux2', 'S0aux3', 'S2aux1', 'S2aux2', 'S2aux3', 'S0aux4', 'S0aux5', 'S0aux6', 'S0aux7', 'S0aux8', 'GS3x1', 'GS3x0', 'GS0x7'\n",
    "df_temp_full_enc\n"
   ]
  },
  {
   "cell_type": "code",
   "execution_count": 51,
   "metadata": {},
   "outputs": [
    {
     "data": {
      "text/html": [
       "<div>\n",
       "<style scoped>\n",
       "    .dataframe tbody tr th:only-of-type {\n",
       "        vertical-align: middle;\n",
       "    }\n",
       "\n",
       "    .dataframe tbody tr th {\n",
       "        vertical-align: top;\n",
       "    }\n",
       "\n",
       "    .dataframe thead th {\n",
       "        text-align: right;\n",
       "    }\n",
       "</style>\n",
       "<table border=\"1\" class=\"dataframe\">\n",
       "  <thead>\n",
       "    <tr style=\"text-align: right;\">\n",
       "      <th></th>\n",
       "      <th>GS3x1</th>\n",
       "      <th>GS3x0</th>\n",
       "      <th>GS0x7</th>\n",
       "      <th>S6aux0</th>\n",
       "      <th>S0aux7</th>\n",
       "      <th>S0aux6</th>\n",
       "      <th>S3aux0</th>\n",
       "      <th>S2aux0</th>\n",
       "      <th>S5aux0</th>\n",
       "    </tr>\n",
       "  </thead>\n",
       "  <tbody>\n",
       "    <tr>\n",
       "      <td>0</td>\n",
       "      <td>-0.288100</td>\n",
       "      <td>5.604682</td>\n",
       "      <td>0.007267</td>\n",
       "      <td>0.354978</td>\n",
       "      <td>0.017272</td>\n",
       "      <td>0.149906</td>\n",
       "      <td>0.0</td>\n",
       "      <td>0.0</td>\n",
       "      <td>0.0</td>\n",
       "    </tr>\n",
       "    <tr>\n",
       "      <td>1</td>\n",
       "      <td>1.224944</td>\n",
       "      <td>14.974799</td>\n",
       "      <td>0.086510</td>\n",
       "      <td>0.831169</td>\n",
       "      <td>-0.024804</td>\n",
       "      <td>-0.195772</td>\n",
       "      <td>0.0</td>\n",
       "      <td>0.0</td>\n",
       "      <td>0.0</td>\n",
       "    </tr>\n",
       "    <tr>\n",
       "      <td>2</td>\n",
       "      <td>1.289715</td>\n",
       "      <td>11.412295</td>\n",
       "      <td>0.100202</td>\n",
       "      <td>-0.238095</td>\n",
       "      <td>-0.029561</td>\n",
       "      <td>-0.499448</td>\n",
       "      <td>0.0</td>\n",
       "      <td>0.0</td>\n",
       "      <td>0.0</td>\n",
       "    </tr>\n",
       "    <tr>\n",
       "      <td>3</td>\n",
       "      <td>-4.074344</td>\n",
       "      <td>10.574864</td>\n",
       "      <td>0.000152</td>\n",
       "      <td>-0.476190</td>\n",
       "      <td>-0.005726</td>\n",
       "      <td>-0.409771</td>\n",
       "      <td>0.0</td>\n",
       "      <td>0.0</td>\n",
       "      <td>0.0</td>\n",
       "    </tr>\n",
       "    <tr>\n",
       "      <td>4</td>\n",
       "      <td>-1.700202</td>\n",
       "      <td>7.183565</td>\n",
       "      <td>0.024611</td>\n",
       "      <td>0.870130</td>\n",
       "      <td>0.090564</td>\n",
       "      <td>0.188366</td>\n",
       "      <td>0.0</td>\n",
       "      <td>0.0</td>\n",
       "      <td>0.0</td>\n",
       "    </tr>\n",
       "    <tr>\n",
       "      <td>...</td>\n",
       "      <td>...</td>\n",
       "      <td>...</td>\n",
       "      <td>...</td>\n",
       "      <td>...</td>\n",
       "      <td>...</td>\n",
       "      <td>...</td>\n",
       "      <td>...</td>\n",
       "      <td>...</td>\n",
       "      <td>...</td>\n",
       "    </tr>\n",
       "    <tr>\n",
       "      <td>5743</td>\n",
       "      <td>1.234002</td>\n",
       "      <td>9.670885</td>\n",
       "      <td>0.350353</td>\n",
       "      <td>-0.030303</td>\n",
       "      <td>0.008017</td>\n",
       "      <td>0.012757</td>\n",
       "      <td>0.0</td>\n",
       "      <td>0.0</td>\n",
       "      <td>0.0</td>\n",
       "    </tr>\n",
       "    <tr>\n",
       "      <td>5744</td>\n",
       "      <td>0.139378</td>\n",
       "      <td>11.647571</td>\n",
       "      <td>0.000162</td>\n",
       "      <td>-0.393939</td>\n",
       "      <td>-0.009871</td>\n",
       "      <td>0.206763</td>\n",
       "      <td>0.0</td>\n",
       "      <td>0.0</td>\n",
       "      <td>0.0</td>\n",
       "    </tr>\n",
       "    <tr>\n",
       "      <td>5745</td>\n",
       "      <td>-3.796982</td>\n",
       "      <td>11.594043</td>\n",
       "      <td>0.002793</td>\n",
       "      <td>-0.536797</td>\n",
       "      <td>0.028769</td>\n",
       "      <td>0.418133</td>\n",
       "      <td>0.0</td>\n",
       "      <td>0.0</td>\n",
       "      <td>0.0</td>\n",
       "    </tr>\n",
       "    <tr>\n",
       "      <td>5746</td>\n",
       "      <td>2.254222</td>\n",
       "      <td>10.754870</td>\n",
       "      <td>0.023098</td>\n",
       "      <td>0.848485</td>\n",
       "      <td>-0.024595</td>\n",
       "      <td>-0.542386</td>\n",
       "      <td>0.0</td>\n",
       "      <td>0.0</td>\n",
       "      <td>0.0</td>\n",
       "    </tr>\n",
       "    <tr>\n",
       "      <td>5747</td>\n",
       "      <td>-1.778315</td>\n",
       "      <td>4.445353</td>\n",
       "      <td>0.366386</td>\n",
       "      <td>0.255411</td>\n",
       "      <td>0.090923</td>\n",
       "      <td>0.563045</td>\n",
       "      <td>0.0</td>\n",
       "      <td>0.0</td>\n",
       "      <td>0.0</td>\n",
       "    </tr>\n",
       "  </tbody>\n",
       "</table>\n",
       "<p>5748 rows × 9 columns</p>\n",
       "</div>"
      ],
      "text/plain": [
       "         GS3x1      GS3x0     GS0x7    S6aux0    S0aux7    S0aux6  S3aux0  \\\n",
       "0    -0.288100   5.604682  0.007267  0.354978  0.017272  0.149906     0.0   \n",
       "1     1.224944  14.974799  0.086510  0.831169 -0.024804 -0.195772     0.0   \n",
       "2     1.289715  11.412295  0.100202 -0.238095 -0.029561 -0.499448     0.0   \n",
       "3    -4.074344  10.574864  0.000152 -0.476190 -0.005726 -0.409771     0.0   \n",
       "4    -1.700202   7.183565  0.024611  0.870130  0.090564  0.188366     0.0   \n",
       "...        ...        ...       ...       ...       ...       ...     ...   \n",
       "5743  1.234002   9.670885  0.350353 -0.030303  0.008017  0.012757     0.0   \n",
       "5744  0.139378  11.647571  0.000162 -0.393939 -0.009871  0.206763     0.0   \n",
       "5745 -3.796982  11.594043  0.002793 -0.536797  0.028769  0.418133     0.0   \n",
       "5746  2.254222  10.754870  0.023098  0.848485 -0.024595 -0.542386     0.0   \n",
       "5747 -1.778315   4.445353  0.366386  0.255411  0.090923  0.563045     0.0   \n",
       "\n",
       "      S2aux0  S5aux0  \n",
       "0        0.0     0.0  \n",
       "1        0.0     0.0  \n",
       "2        0.0     0.0  \n",
       "3        0.0     0.0  \n",
       "4        0.0     0.0  \n",
       "...      ...     ...  \n",
       "5743     0.0     0.0  \n",
       "5744     0.0     0.0  \n",
       "5745     0.0     0.0  \n",
       "5746     0.0     0.0  \n",
       "5747     0.0     0.0  \n",
       "\n",
       "[5748 rows x 9 columns]"
      ]
     },
     "execution_count": 51,
     "metadata": {},
     "output_type": "execute_result"
    }
   ],
   "source": [
    "data_test_raw = data_test.copy(deep=True)\n",
    "\n",
    "GEANT_test_transformed = max_abs_scaler.inverse_transform(np.concatenate([data_pid[vars_list_aux][:len(test_generated)].values, data_test_raw[out_columns].values], axis=1))\n",
    "GEANT_test_transformed = robust_scaler.inverse_transform(GEANT_test_transformed)\n",
    "\n",
    "# save transformed test to csv\n",
    "GEANT_df_temp_enc = pd.DataFrame(GEANT_test_transformed[:, -len(out_columns):], columns=out_columns)\n",
    "data_test_proc = pd.DataFrame(np.concatenate([GEANT_df_temp_enc, data_test[['S6aux0', 'S0aux7', 'S0aux6', 'S3aux0', 'S2aux0', 'S5aux0']]], axis=1), columns=out_columns+['S6aux0','S0aux7', 'S0aux6', 'S3aux0', 'S2aux0', 'S5aux0'])\n",
    "\n",
    "#print(data_test_proc)\n",
    "data_test_proc.insert(len(out_columns)-1+1,'GS0x7',data_test_proc['GS0x7_invsigmoid'].apply(sigmoid))\n",
    "\n",
    "#print(data_test_proc)\n",
    "#df_temp_full_enc['GS0x7'] = data_all_pids['GS0x7_invsigmoid'].apply(sigmoid)\n",
    "data_test_proc.drop(\"GS0x7_invsigmoid\", axis=1, inplace=True)\n",
    "\n",
    "#data_test_proc['GS0x7']=data_test_proc['GS0x7_invsigmoid'].apply(sigmoid)\n",
    "#data_test_proc.drop(\"GS0x7_invsigmoid\", axis=1, inplace=True)\n",
    "data_test_proc"
   ]
  },
  {
   "cell_type": "code",
   "execution_count": 52,
   "metadata": {},
   "outputs": [],
   "source": [
    "# \"trks_EcalPIDe\": \"GS3x0\", \"trks_EcalPIDmu\": \"GS3x1\", \"trks_ProbNNk\": \"GS0x7\"\n",
    "# E CUTS_VAE = (dVAE['K_ProbNNk'] > 0.2) and (dVAE['l1_EcalPIDe'] > 3) and (dVAE['l2_EcalPIDe'] >3) and (dVAE['K_EcalPIDe'] <0)\n",
    "# Mu CUTS_VAE = (dVAE['l1_EcalPIDmu'] > -3) and (dVAE['l2_EcalPIDmu'] > -3 ) and (dVAE['K_ProbNNk'] > 0.2)\n",
    "\n",
    "if PID_NAME_Save==\"e\":\n",
    "    GEANT_CUT = (df_temp_full_enc.GS3x0 > 3)\n",
    "    GAN_CUT = (data_test_proc.GS3x0 > 3)\n",
    "if PID_NAME_Save==\"Ke\":\n",
    "    GEANT_CUT = (df_temp_full_enc.GS0x7 > 0.2) & (df_temp_full_enc.GS3x0 < 0)\n",
    "    GAN_CUT = (data_test_proc.GS0x7 > 0.2) & (data_test_proc.GS3x0 < 0)\n",
    "if PID_NAME_Save==\"m\":\n",
    "    GEANT_CUT = (df_temp_full_enc.GS3x1 > -3)\n",
    "    GAN_CUT = (data_test_proc.GS3x1 > -3)\n",
    "if PID_NAME_Save==\"Km\":\n",
    "    GEANT_CUT = (df_temp_full_enc.GS0x7 > 0.2)\n",
    "    GAN_CUT = (data_test_proc.GS0x7 > 0.2)\n",
    "\n",
    "df_temp_full_enc_cut = df_temp_full_enc[GEANT_CUT]\n",
    "data_test_proc_cut = data_test_proc[GAN_CUT]\n",
    "\n",
    "var = 'S0aux7'\n",
    "l_GEANT = df_temp_full_enc[GEANT_CUT][var]\n",
    "l_GAN = df_temp_full_enc[GAN_CUT][var]\n",
    "l_GAN_GEANT = df_temp_full_enc[GEANT_CUT & GAN_CUT][var]\n"
   ]
  },
  {
   "cell_type": "code",
   "execution_count": 53,
   "metadata": {},
   "outputs": [
    {
     "data": {
      "text/plain": [
       "0        5.604682\n",
       "1       14.974799\n",
       "2       11.412295\n",
       "3       10.574864\n",
       "4        7.183565\n",
       "          ...    \n",
       "5743     9.670885\n",
       "5744    11.647571\n",
       "5745    11.594043\n",
       "5746    10.754870\n",
       "5747     4.445353\n",
       "Name: GS3x0, Length: 5748, dtype: float64"
      ]
     },
     "execution_count": 53,
     "metadata": {},
     "output_type": "execute_result"
    }
   ],
   "source": [
    "data_test_proc.GS3x0"
   ]
  },
  {
   "cell_type": "code",
   "execution_count": 54,
   "metadata": {},
   "outputs": [
    {
     "data": {
      "text/plain": [
       "0        2.680156\n",
       "1        7.660658\n",
       "2       12.779299\n",
       "3       11.359552\n",
       "4        1.670054\n",
       "          ...    \n",
       "5743     3.229307\n",
       "5744     8.022695\n",
       "5745     5.699063\n",
       "5746     6.650821\n",
       "5747     4.013839\n",
       "Name: GS3x0, Length: 5748, dtype: float64"
      ]
     },
     "execution_count": 54,
     "metadata": {},
     "output_type": "execute_result"
    }
   ],
   "source": [
    "df_temp_full_enc.GS3x0"
   ]
  },
  {
   "cell_type": "code",
   "execution_count": 55,
   "metadata": {},
   "outputs": [
    {
     "data": {
      "text/plain": [
       "0       False\n",
       "1        True\n",
       "2        True\n",
       "3        True\n",
       "4       False\n",
       "        ...  \n",
       "5743     True\n",
       "5744     True\n",
       "5745     True\n",
       "5746     True\n",
       "5747     True\n",
       "Name: GS3x0, Length: 5748, dtype: bool"
      ]
     },
     "execution_count": 55,
     "metadata": {},
     "output_type": "execute_result"
    }
   ],
   "source": [
    "GEANT_CUT"
   ]
  },
  {
   "cell_type": "code",
   "execution_count": 56,
   "metadata": {},
   "outputs": [
    {
     "data": {
      "text/plain": [
       "0       True\n",
       "1       True\n",
       "2       True\n",
       "3       True\n",
       "4       True\n",
       "        ... \n",
       "5743    True\n",
       "5744    True\n",
       "5745    True\n",
       "5746    True\n",
       "5747    True\n",
       "Name: GS3x0, Length: 5748, dtype: bool"
      ]
     },
     "execution_count": 56,
     "metadata": {},
     "output_type": "execute_result"
    }
   ],
   "source": [
    "GAN_CUT"
   ]
  },
  {
   "cell_type": "code",
   "execution_count": 57,
   "metadata": {},
   "outputs": [
    {
     "data": {
      "image/png": "[encoded data removed]",
      "text/plain": [
       "<Figure size 432x288 with 1 Axes>"
      ]
     },
     "metadata": {
      "needs_background": "light"
     },
     "output_type": "display_data"
    }
   ],
   "source": [
    "\"\"\"\n",
    ">>> d_feature_names['trks_Aux_p']\n",
    "'S0aux7'\n",
    ">>> d_feature_names['trks_Aux_pt']\n",
    "'S0aux8'\n",
    "\"\"\"\n",
    "bin_edges_p = np.array([0,0.01, 0.02, 0.04, 0.07, 0.1, 0.2,0.5])\n",
    "df_temp_full_enc_cut[var].hist(bins=bin_edges_p)\n",
    "plt.yscale('log')\n",
    "\n",
    "bin_edges = bin_edges_p\n",
    "hist= {}\n",
    "hist[\"Cut\"], _ = np.histogram(l_GEANT, bins=bin_edges)\n",
    "hist[\"VAE\"], _ = np.histogram(l_GAN, bins=bin_edges)\n",
    "hist[\"Cut_VAE\"], _ = np.histogram(l_GAN_GEANT, bins=bin_edges)\n",
    "\n",
    "A,B,C = hist['VAE']-hist['Cut_VAE'], hist['Cut']-hist['Cut_VAE'], hist['Cut_VAE']\n",
    "\n",
    "\n",
    "bin_centers = (bin_edges[1:] + bin_edges[:-1])/2.\n",
    "bin_widths = (bin_edges[1:] - bin_edges[:-1])"
   ]
  },
  {
   "cell_type": "code",
   "execution_count": 58,
   "metadata": {},
   "outputs": [
    {
     "data": {
      "text/plain": [
       "array([603, 514, 612, 488, 224, 242,  51])"
      ]
     },
     "execution_count": 58,
     "metadata": {},
     "output_type": "execute_result"
    }
   ],
   "source": [
    "hist[\"Cut\"]"
   ]
  },
  {
   "cell_type": "code",
   "execution_count": 59,
   "metadata": {},
   "outputs": [
    {
     "data": {
      "text/plain": [
       "array([600, 512, 610, 495, 234, 238,  40])"
      ]
     },
     "execution_count": 59,
     "metadata": {},
     "output_type": "execute_result"
    }
   ],
   "source": [
    "hist[\"VAE\"]"
   ]
  },
  {
   "cell_type": "code",
   "execution_count": 60,
   "metadata": {},
   "outputs": [
    {
     "name": "stdout",
     "output_type": "stream",
     "text": [
      "frac S0aux7 \n",
      "f\n",
      "0.9950248756218906, 0.9961089494163424, 0.9967320261437909, 1.014344262295082, 1.0446428571428572, 0.9834710743801653, 0.7843137254901961\n",
      "\n",
      "sf\n",
      "0.008908378394021439, 0.010984120563828319, 0.009512118298787026, 0.012553757307332387, 0.02499174198522921, 0.027793570718398063, 0.07957641665817919\n",
      "\n"
     ]
    },
    {
     "data": {
      "image/png": "[encoded data removed]",
      "text/plain": [
       "<Figure size 432x288 with 1 Axes>"
      ]
     },
     "metadata": {
      "needs_background": "light"
     },
     "output_type": "display_data"
    }
   ],
   "source": [
    "if True:\n",
    "            f = np.divide(1.*(A+C), (B + C), out=1.*np.ones_like(A), where=(B+C)!=0) # need numpy verison 1.7+\n",
    "            sf = np.divide(np.sqrt( A * np.square( B + C )   +  B * np.square( A + C )  + C * np.square( B - A )  ),   np.square(B+C), out=1.*np.ones_like(A), where=np.square(B+C)!=0)\n",
    "            #fracabc = np.divide(1.*histCut, histMC)\n",
    "\n",
    "            print(\"frac {} \\nf\".format(var))\n",
    "            print(*f, sep = \", \")\n",
    "            print(\"\\nsf\")\n",
    "            print(*sf, sep = \", \")\n",
    "            print(\"\")\n",
    "\n",
    "            #plt.plot(bin_centers, fracabc)\n",
    "            #plt.errorbar(bin_centers, fracabc, fracabc*np.sqrt(1./hist['VAE']+ 1./hist['Cut']))\n",
    "            #plt.errorbar(bin_centers, fracabc, fracabc*np.sqrt(np.divide(1., hist['VAE'], out=1.*np.ones_like(hist['VAE']), where=hist['VAE']!=0), + np.divide(1., hist['Cut'], out=1.*np.ones_like(hist['Cut']), where=hist['Cut']!=0)   )\n",
    "            plt.errorbar(bin_centers, f, sf, xerr=bin_widths/2. )\n",
    "\n",
    "            #plt.xscale(\"symlog\") if 'pzl' in var else  plt.xscale(\"log\")\n",
    "            #plt.title(title)\n",
    "            plt.ylim(0.75,1.25)\n",
    "            plt.xscale(\"linear\")\n",
    "            if (var==\"K_pt\" or var==\"l1_pt\"): plt.xscale(\"log\")\n",
    "            plt.yscale(\"linear\")\n",
    "            plt.ylabel('GAN / GEANT')\n",
    "            plt.xlabel(\"{} [{}]\".format(var, \"GeV\"))\n",
    "            #plt.savefig(\"{}_frac_{}.png\".format(fname_in , var))\n",
    "            #plt.clf()"
   ]
  },
  {
   "cell_type": "code",
   "execution_count": null,
   "metadata": {},
   "outputs": [],
   "source": []
  },
  {
   "cell_type": "code",
   "execution_count": null,
   "metadata": {},
   "outputs": [],
   "source": []
  },
  {
   "cell_type": "code",
   "execution_count": null,
   "metadata": {},
   "outputs": [],
   "source": []
  },
  {
   "cell_type": "code",
   "execution_count": null,
   "metadata": {},
   "outputs": [],
   "source": []
  }
 ],
 "metadata": {
  "kernelspec": {
   "display_name": "Python 3",
   "language": "python",
   "name": "python3"
  },
  "language_info": {
   "codemirror_mode": {
    "name": "ipython",
    "version": 3
   },
   "file_extension": ".py",
   "mimetype": "text/x-python",
   "name": "python",
   "nbconvert_exporter": "python",
   "pygments_lexer": "ipython3",
   "version": "3.6.9"
  }
 },
 "nbformat": 4,
 "nbformat_minor": 2
}
