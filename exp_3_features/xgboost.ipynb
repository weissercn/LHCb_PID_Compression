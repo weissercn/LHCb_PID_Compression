{
 "cells": [
  {
   "cell_type": "code",
   "execution_count": 18,
   "metadata": {},
   "outputs": [],
   "source": [
    "import pickle\n",
    "import numpy as np\n",
    "import pandas as pd\n",
    "import matplotlib.pyplot as plt\n",
    "from tqdm import tqdm\n",
    "from sklearn.model_selection import train_test_split\n",
    "from sklearn.preprocessing import StandardScaler, MaxAbsScaler, LabelEncoder\n",
    "from sklearn.externals import joblib\n",
    "import xgboost as xgb\n",
    "from collections import defaultdict\n",
    "\n",
    "# internal imports\n",
    "from Autoencoder_Utils import print_features_histograms, plot_difference_displ, print_features_histograms_displ\n",
    "from helpers import *\n",
    "\n",
    "%matplotlib inline"
   ]
  },
  {
   "cell_type": "markdown",
   "metadata": {},
   "source": [
    "# Original data"
   ]
  },
  {
   "cell_type": "code",
   "execution_count": 19,
   "metadata": {},
   "outputs": [
    {
     "data": {
      "text/html": [
       "<div>\n",
       "<style scoped>\n",
       "    .dataframe tbody tr th:only-of-type {\n",
       "        vertical-align: middle;\n",
       "    }\n",
       "\n",
       "    .dataframe tbody tr th {\n",
       "        vertical-align: top;\n",
       "    }\n",
       "\n",
       "    .dataframe thead th {\n",
       "        text-align: right;\n",
       "    }\n",
       "</style>\n",
       "<table border=\"1\" class=\"dataframe\">\n",
       "  <thead>\n",
       "    <tr style=\"text-align: right;\">\n",
       "      <th></th>\n",
       "      <th>S5aux0</th>\n",
       "      <th>S3aux0</th>\n",
       "      <th>S2aux0</th>\n",
       "      <th>S0aux0</th>\n",
       "      <th>S0aux1</th>\n",
       "      <th>S0aux2</th>\n",
       "      <th>S0aux3</th>\n",
       "      <th>S2aux1</th>\n",
       "      <th>S2aux2</th>\n",
       "      <th>S2aux3</th>\n",
       "      <th>S0aux4</th>\n",
       "      <th>S0aux5</th>\n",
       "      <th>S0aux6</th>\n",
       "      <th>S0aux7</th>\n",
       "      <th>S0aux8</th>\n",
       "      <th>GS3x1</th>\n",
       "      <th>GS3x0</th>\n",
       "      <th>GS0x7</th>\n",
       "      <th>pid</th>\n",
       "    </tr>\n",
       "  </thead>\n",
       "  <tbody>\n",
       "    <tr>\n",
       "      <td>0</td>\n",
       "      <td>1.0</td>\n",
       "      <td>1.0</td>\n",
       "      <td>1.0</td>\n",
       "      <td>19.382790</td>\n",
       "      <td>16.0</td>\n",
       "      <td>11.772345</td>\n",
       "      <td>12.0</td>\n",
       "      <td>0.0</td>\n",
       "      <td>0.0</td>\n",
       "      <td>0.0</td>\n",
       "      <td>0.937383</td>\n",
       "      <td>3.0</td>\n",
       "      <td>3.184231</td>\n",
       "      <td>22970.26</td>\n",
       "      <td>1899.143444</td>\n",
       "      <td>2.349617</td>\n",
       "      <td>-6.289608</td>\n",
       "      <td>0.989585</td>\n",
       "      <td>k</td>\n",
       "    </tr>\n",
       "    <tr>\n",
       "      <td>1</td>\n",
       "      <td>1.0</td>\n",
       "      <td>1.0</td>\n",
       "      <td>1.0</td>\n",
       "      <td>12.948977</td>\n",
       "      <td>15.0</td>\n",
       "      <td>11.913938</td>\n",
       "      <td>9.0</td>\n",
       "      <td>0.0</td>\n",
       "      <td>0.0</td>\n",
       "      <td>0.0</td>\n",
       "      <td>0.844222</td>\n",
       "      <td>3.0</td>\n",
       "      <td>2.449894</td>\n",
       "      <td>8428.79</td>\n",
       "      <td>1444.099663</td>\n",
       "      <td>-7.881031</td>\n",
       "      <td>-6.549425</td>\n",
       "      <td>0.930426</td>\n",
       "      <td>k</td>\n",
       "    </tr>\n",
       "    <tr>\n",
       "      <td>2</td>\n",
       "      <td>1.0</td>\n",
       "      <td>1.0</td>\n",
       "      <td>1.0</td>\n",
       "      <td>17.329514</td>\n",
       "      <td>15.0</td>\n",
       "      <td>4.009862</td>\n",
       "      <td>8.0</td>\n",
       "      <td>1.0</td>\n",
       "      <td>1.0</td>\n",
       "      <td>1.0</td>\n",
       "      <td>0.877413</td>\n",
       "      <td>3.0</td>\n",
       "      <td>3.870815</td>\n",
       "      <td>6565.95</td>\n",
       "      <td>273.568119</td>\n",
       "      <td>4.563250</td>\n",
       "      <td>-8.244058</td>\n",
       "      <td>0.962666</td>\n",
       "      <td>k</td>\n",
       "    </tr>\n",
       "    <tr>\n",
       "      <td>3</td>\n",
       "      <td>1.0</td>\n",
       "      <td>1.0</td>\n",
       "      <td>1.0</td>\n",
       "      <td>17.420866</td>\n",
       "      <td>17.0</td>\n",
       "      <td>4.958236</td>\n",
       "      <td>6.0</td>\n",
       "      <td>0.0</td>\n",
       "      <td>0.0</td>\n",
       "      <td>0.0</td>\n",
       "      <td>0.842099</td>\n",
       "      <td>3.0</td>\n",
       "      <td>3.148228</td>\n",
       "      <td>27078.84</td>\n",
       "      <td>2320.612187</td>\n",
       "      <td>-4.410181</td>\n",
       "      <td>-8.690910</td>\n",
       "      <td>0.998305</td>\n",
       "      <td>k</td>\n",
       "    </tr>\n",
       "    <tr>\n",
       "      <td>4</td>\n",
       "      <td>1.0</td>\n",
       "      <td>1.0</td>\n",
       "      <td>1.0</td>\n",
       "      <td>8.845536</td>\n",
       "      <td>16.0</td>\n",
       "      <td>4.123341</td>\n",
       "      <td>10.0</td>\n",
       "      <td>1.0</td>\n",
       "      <td>1.0</td>\n",
       "      <td>1.0</td>\n",
       "      <td>0.801802</td>\n",
       "      <td>3.0</td>\n",
       "      <td>3.222980</td>\n",
       "      <td>8583.69</td>\n",
       "      <td>682.798885</td>\n",
       "      <td>2.340676</td>\n",
       "      <td>-3.726297</td>\n",
       "      <td>0.863629</td>\n",
       "      <td>k</td>\n",
       "    </tr>\n",
       "  </tbody>\n",
       "</table>\n",
       "</div>"
      ],
      "text/plain": [
       "   S5aux0  S3aux0  S2aux0     S0aux0  S0aux1     S0aux2  S0aux3  S2aux1  \\\n",
       "0     1.0     1.0     1.0  19.382790    16.0  11.772345    12.0     0.0   \n",
       "1     1.0     1.0     1.0  12.948977    15.0  11.913938     9.0     0.0   \n",
       "2     1.0     1.0     1.0  17.329514    15.0   4.009862     8.0     1.0   \n",
       "3     1.0     1.0     1.0  17.420866    17.0   4.958236     6.0     0.0   \n",
       "4     1.0     1.0     1.0   8.845536    16.0   4.123341    10.0     1.0   \n",
       "\n",
       "   S2aux2  S2aux3    S0aux4  S0aux5    S0aux6    S0aux7       S0aux8  \\\n",
       "0     0.0     0.0  0.937383     3.0  3.184231  22970.26  1899.143444   \n",
       "1     0.0     0.0  0.844222     3.0  2.449894   8428.79  1444.099663   \n",
       "2     1.0     1.0  0.877413     3.0  3.870815   6565.95   273.568119   \n",
       "3     0.0     0.0  0.842099     3.0  3.148228  27078.84  2320.612187   \n",
       "4     1.0     1.0  0.801802     3.0  3.222980   8583.69   682.798885   \n",
       "\n",
       "      GS3x1     GS3x0     GS0x7 pid  \n",
       "0  2.349617 -6.289608  0.989585   k  \n",
       "1 -7.881031 -6.549425  0.930426   k  \n",
       "2  4.563250 -8.244058  0.962666   k  \n",
       "3 -4.410181 -8.690910  0.998305   k  \n",
       "4  2.340676 -3.726297  0.863629   k  "
      ]
     },
     "execution_count": 19,
     "metadata": {},
     "output_type": "execute_result"
    }
   ],
   "source": [
    "# kaon_1 = pd.read_csv('../data/VAE/NTuple_BKstee_516_517_VAE_K_in.csv')\n",
    "# kaon_2 = pd.read_csv('../data/VAE/NTuple_BKstmumu_518_519_VAE_K_in.csv')\n",
    "\n",
    "# electron_1 = pd.read_csv('../data/VAE/NTuple_BKstee_516_517_VAE_l1_in.csv')\n",
    "# electron_2 = pd.read_csv('../data/VAE/NTuple_BKstee_516_517_VAE_l2_in.csv')\n",
    "\n",
    "# muon_1 = pd.read_csv('../data/VAE/NTuple_BKstmumu_518_519_VAE_l1_in.csv')\n",
    "# muon_2 = pd.read_csv('../data/VAE/NTuple_BKstmumu_518_519_VAE_l2_in.csv')\n",
    "\n",
    "# kaon = pd.concat([kaon_1, kaon_2], axis=0)\n",
    "# electron = pd.concat([electron_1, electron_2], axis=0)\n",
    "# muon = pd.concat([muon_1, muon_2], axis=0)\n",
    "\n",
    "# df = pd.concat([kaon, electron, muon], axis=0)\n",
    "# df[\"pid\"] = [\"k\"]*len(kaon) + [\"e\"]*len(electron) + [\"m\"]*len(muon)\n",
    "# df.head()"
   ]
  },
  {
   "cell_type": "code",
   "execution_count": 32,
   "metadata": {},
   "outputs": [
    {
     "data": {
      "text/html": [
       "<div>\n",
       "<style scoped>\n",
       "    .dataframe tbody tr th:only-of-type {\n",
       "        vertical-align: middle;\n",
       "    }\n",
       "\n",
       "    .dataframe tbody tr th {\n",
       "        vertical-align: top;\n",
       "    }\n",
       "\n",
       "    .dataframe thead th {\n",
       "        text-align: right;\n",
       "    }\n",
       "</style>\n",
       "<table border=\"1\" class=\"dataframe\">\n",
       "  <thead>\n",
       "    <tr style=\"text-align: right;\">\n",
       "      <th></th>\n",
       "      <th>S5aux0</th>\n",
       "      <th>S3aux0</th>\n",
       "      <th>S2aux0</th>\n",
       "      <th>S0aux0</th>\n",
       "      <th>S0aux1</th>\n",
       "      <th>S0aux2</th>\n",
       "      <th>S0aux3</th>\n",
       "      <th>S2aux1</th>\n",
       "      <th>S2aux2</th>\n",
       "      <th>S2aux3</th>\n",
       "      <th>S0aux4</th>\n",
       "      <th>S0aux5</th>\n",
       "      <th>S0aux6</th>\n",
       "      <th>S0aux7</th>\n",
       "      <th>S0aux8</th>\n",
       "      <th>GS3x1</th>\n",
       "      <th>GS3x0</th>\n",
       "      <th>GS0x7</th>\n",
       "      <th>pid</th>\n",
       "    </tr>\n",
       "  </thead>\n",
       "  <tbody>\n",
       "    <tr>\n",
       "      <td>0</td>\n",
       "      <td>1.0</td>\n",
       "      <td>1.0</td>\n",
       "      <td>1.0</td>\n",
       "      <td>19.382790</td>\n",
       "      <td>16.0</td>\n",
       "      <td>11.772345</td>\n",
       "      <td>12.0</td>\n",
       "      <td>0.0</td>\n",
       "      <td>0.0</td>\n",
       "      <td>0.0</td>\n",
       "      <td>0.937383</td>\n",
       "      <td>3.0</td>\n",
       "      <td>3.184231</td>\n",
       "      <td>22970.26</td>\n",
       "      <td>1899.143444</td>\n",
       "      <td>2.349617</td>\n",
       "      <td>-6.289608</td>\n",
       "      <td>0.989585</td>\n",
       "      <td>k</td>\n",
       "    </tr>\n",
       "    <tr>\n",
       "      <td>1</td>\n",
       "      <td>1.0</td>\n",
       "      <td>1.0</td>\n",
       "      <td>1.0</td>\n",
       "      <td>12.948977</td>\n",
       "      <td>15.0</td>\n",
       "      <td>11.913938</td>\n",
       "      <td>9.0</td>\n",
       "      <td>0.0</td>\n",
       "      <td>0.0</td>\n",
       "      <td>0.0</td>\n",
       "      <td>0.844222</td>\n",
       "      <td>3.0</td>\n",
       "      <td>2.449894</td>\n",
       "      <td>8428.79</td>\n",
       "      <td>1444.099663</td>\n",
       "      <td>-7.881031</td>\n",
       "      <td>-6.549425</td>\n",
       "      <td>0.930426</td>\n",
       "      <td>k</td>\n",
       "    </tr>\n",
       "    <tr>\n",
       "      <td>2</td>\n",
       "      <td>1.0</td>\n",
       "      <td>1.0</td>\n",
       "      <td>1.0</td>\n",
       "      <td>17.329514</td>\n",
       "      <td>15.0</td>\n",
       "      <td>4.009862</td>\n",
       "      <td>8.0</td>\n",
       "      <td>1.0</td>\n",
       "      <td>1.0</td>\n",
       "      <td>1.0</td>\n",
       "      <td>0.877413</td>\n",
       "      <td>3.0</td>\n",
       "      <td>3.870815</td>\n",
       "      <td>6565.95</td>\n",
       "      <td>273.568119</td>\n",
       "      <td>4.563250</td>\n",
       "      <td>-8.244058</td>\n",
       "      <td>0.962666</td>\n",
       "      <td>k</td>\n",
       "    </tr>\n",
       "    <tr>\n",
       "      <td>3</td>\n",
       "      <td>1.0</td>\n",
       "      <td>1.0</td>\n",
       "      <td>1.0</td>\n",
       "      <td>17.420866</td>\n",
       "      <td>17.0</td>\n",
       "      <td>4.958236</td>\n",
       "      <td>6.0</td>\n",
       "      <td>0.0</td>\n",
       "      <td>0.0</td>\n",
       "      <td>0.0</td>\n",
       "      <td>0.842099</td>\n",
       "      <td>3.0</td>\n",
       "      <td>3.148228</td>\n",
       "      <td>27078.84</td>\n",
       "      <td>2320.612187</td>\n",
       "      <td>-4.410181</td>\n",
       "      <td>-8.690910</td>\n",
       "      <td>0.998305</td>\n",
       "      <td>k</td>\n",
       "    </tr>\n",
       "    <tr>\n",
       "      <td>4</td>\n",
       "      <td>1.0</td>\n",
       "      <td>1.0</td>\n",
       "      <td>1.0</td>\n",
       "      <td>8.845536</td>\n",
       "      <td>16.0</td>\n",
       "      <td>4.123341</td>\n",
       "      <td>10.0</td>\n",
       "      <td>1.0</td>\n",
       "      <td>1.0</td>\n",
       "      <td>1.0</td>\n",
       "      <td>0.801802</td>\n",
       "      <td>3.0</td>\n",
       "      <td>3.222980</td>\n",
       "      <td>8583.69</td>\n",
       "      <td>682.798885</td>\n",
       "      <td>2.340676</td>\n",
       "      <td>-3.726297</td>\n",
       "      <td>0.863629</td>\n",
       "      <td>k</td>\n",
       "    </tr>\n",
       "  </tbody>\n",
       "</table>\n",
       "</div>"
      ],
      "text/plain": [
       "   S5aux0  S3aux0  S2aux0     S0aux0  S0aux1     S0aux2  S0aux3  S2aux1  \\\n",
       "0     1.0     1.0     1.0  19.382790    16.0  11.772345    12.0     0.0   \n",
       "1     1.0     1.0     1.0  12.948977    15.0  11.913938     9.0     0.0   \n",
       "2     1.0     1.0     1.0  17.329514    15.0   4.009862     8.0     1.0   \n",
       "3     1.0     1.0     1.0  17.420866    17.0   4.958236     6.0     0.0   \n",
       "4     1.0     1.0     1.0   8.845536    16.0   4.123341    10.0     1.0   \n",
       "\n",
       "   S2aux2  S2aux3    S0aux4  S0aux5    S0aux6    S0aux7       S0aux8  \\\n",
       "0     0.0     0.0  0.937383     3.0  3.184231  22970.26  1899.143444   \n",
       "1     0.0     0.0  0.844222     3.0  2.449894   8428.79  1444.099663   \n",
       "2     1.0     1.0  0.877413     3.0  3.870815   6565.95   273.568119   \n",
       "3     0.0     0.0  0.842099     3.0  3.148228  27078.84  2320.612187   \n",
       "4     1.0     1.0  0.801802     3.0  3.222980   8583.69   682.798885   \n",
       "\n",
       "      GS3x1     GS3x0     GS0x7 pid  \n",
       "0  2.349617 -6.289608  0.989585   k  \n",
       "1 -7.881031 -6.549425  0.930426   k  \n",
       "2  4.563250 -8.244058  0.962666   k  \n",
       "3 -4.410181 -8.690910  0.998305   k  \n",
       "4  2.340676 -3.726297  0.863629   k  "
      ]
     },
     "execution_count": 32,
     "metadata": {},
     "output_type": "execute_result"
    }
   ],
   "source": [
    "# df.to_csv(\"./data/data_orig_combined.csv\")\n",
    "df = pd.read_csv(\"./data/data_orig_combined.csv\").drop(\"Unnamed: 0\", axis=1)\n",
    "df.head()"
   ]
  },
  {
   "cell_type": "code",
   "execution_count": 33,
   "metadata": {},
   "outputs": [
    {
     "name": "stdout",
     "output_type": "stream",
     "text": [
      "m    430180\n",
      "k    421006\n",
      "e    411832\n",
      "Name: pid, dtype: int64\n"
     ]
    }
   ],
   "source": [
    "print(df['pid'].value_counts())"
   ]
  },
  {
   "cell_type": "code",
   "execution_count": 34,
   "metadata": {},
   "outputs": [
    {
     "name": "stdout",
     "output_type": "stream",
     "text": [
      "3 variables to compress\n"
     ]
    }
   ],
   "source": [
    "vars_list = list(df)\n",
    "vars_list_input, vars_list_aux, vars_list_MC = [], [], []\n",
    "\n",
    "for v in vars_list:\n",
    "    if v == 'pid': \n",
    "        vars_list_MC.append(v)\n",
    "    elif 'aux' in v: \n",
    "        vars_list_aux.append(v)\n",
    "    else: \n",
    "        vars_list_input.append(v)\n",
    "\n",
    "print(\"{} variables to compress\".format(len(vars_list_input)))"
   ]
  },
  {
   "cell_type": "markdown",
   "metadata": {},
   "source": [
    "### Split into data for xgboost (training and testing) and GAN (training and testing)"
   ]
  },
  {
   "cell_type": "code",
   "execution_count": 35,
   "metadata": {},
   "outputs": [],
   "source": [
    "# train test split\n",
    "xgb_size = 0.1\n",
    "data_size = 0.9\n",
    "idx_xgb, idx_data = train_test_split(np.arange(df.shape[0], dtype='int32'), random_state=5,\n",
    "                                       stratify=df['pid'], train_size=xgb_size, test_size=data_size)"
   ]
  },
  {
   "cell_type": "code",
   "execution_count": 36,
   "metadata": {},
   "outputs": [
    {
     "data": {
      "text/plain": [
       "126301"
      ]
     },
     "execution_count": 36,
     "metadata": {},
     "output_type": "execute_result"
    }
   ],
   "source": [
    "xgb_data = df.iloc[idx_xgb]\n",
    "df = df.iloc[idx_data]\n",
    "len(idx_xgb)"
   ]
  },
  {
   "cell_type": "code",
   "execution_count": 37,
   "metadata": {},
   "outputs": [],
   "source": [
    "xgb_data.to_csv(\"./data/data_for_xgb_combined.csv\")"
   ]
  },
  {
   "cell_type": "code",
   "execution_count": 38,
   "metadata": {},
   "outputs": [],
   "source": [
    "df.to_csv(\"./data/data_for_gan_combined.csv\")"
   ]
  },
  {
   "cell_type": "markdown",
   "metadata": {},
   "source": [
    "# Generated data"
   ]
  },
  {
   "cell_type": "code",
   "execution_count": 60,
   "metadata": {},
   "outputs": [
    {
     "name": "stderr",
     "output_type": "stream",
     "text": [
      "/home/tgaintseva/data/anaconda3/lib/python3.6/site-packages/ipykernel_launcher.py:5: FutureWarning: Sorting because non-concatenation axis is not aligned. A future version\n",
      "of pandas will change to not sort by default.\n",
      "\n",
      "To accept the future behavior, pass 'sort=False'.\n",
      "\n",
      "To retain the current behavior and silence the warning, pass 'sort=True'.\n",
      "\n",
      "  \"\"\"\n"
     ]
    },
    {
     "data": {
      "text/html": [
       "<div>\n",
       "<style scoped>\n",
       "    .dataframe tbody tr th:only-of-type {\n",
       "        vertical-align: middle;\n",
       "    }\n",
       "\n",
       "    .dataframe tbody tr th {\n",
       "        vertical-align: top;\n",
       "    }\n",
       "\n",
       "    .dataframe thead th {\n",
       "        text-align: right;\n",
       "    }\n",
       "</style>\n",
       "<table border=\"1\" class=\"dataframe\">\n",
       "  <thead>\n",
       "    <tr style=\"text-align: right;\">\n",
       "      <th></th>\n",
       "      <th>GS0x7</th>\n",
       "      <th>GS3x0</th>\n",
       "      <th>GS3x1</th>\n",
       "      <th>S0aux0</th>\n",
       "      <th>S0aux1</th>\n",
       "      <th>S0aux2</th>\n",
       "      <th>S0aux3</th>\n",
       "      <th>S0aux4</th>\n",
       "      <th>S0aux5</th>\n",
       "      <th>S0aux6</th>\n",
       "      <th>S0aux7</th>\n",
       "      <th>S0aux8</th>\n",
       "      <th>S2aux0</th>\n",
       "      <th>S2aux1</th>\n",
       "      <th>S2aux2</th>\n",
       "      <th>S2aux3</th>\n",
       "      <th>S3aux0</th>\n",
       "      <th>S5aux0</th>\n",
       "      <th>pid</th>\n",
       "    </tr>\n",
       "  </thead>\n",
       "  <tbody>\n",
       "    <tr>\n",
       "      <td>0</td>\n",
       "      <td>0.161806</td>\n",
       "      <td>-5.924373</td>\n",
       "      <td>1.229928</td>\n",
       "      <td>NaN</td>\n",
       "      <td>NaN</td>\n",
       "      <td>NaN</td>\n",
       "      <td>NaN</td>\n",
       "      <td>NaN</td>\n",
       "      <td>NaN</td>\n",
       "      <td>0.281227</td>\n",
       "      <td>-0.012882</td>\n",
       "      <td>NaN</td>\n",
       "      <td>0.0</td>\n",
       "      <td>NaN</td>\n",
       "      <td>NaN</td>\n",
       "      <td>NaN</td>\n",
       "      <td>0.0</td>\n",
       "      <td>0.0</td>\n",
       "      <td>k</td>\n",
       "    </tr>\n",
       "    <tr>\n",
       "      <td>1</td>\n",
       "      <td>0.803198</td>\n",
       "      <td>-5.800195</td>\n",
       "      <td>-5.304009</td>\n",
       "      <td>NaN</td>\n",
       "      <td>NaN</td>\n",
       "      <td>NaN</td>\n",
       "      <td>NaN</td>\n",
       "      <td>NaN</td>\n",
       "      <td>NaN</td>\n",
       "      <td>-0.003120</td>\n",
       "      <td>0.070954</td>\n",
       "      <td>NaN</td>\n",
       "      <td>0.0</td>\n",
       "      <td>NaN</td>\n",
       "      <td>NaN</td>\n",
       "      <td>NaN</td>\n",
       "      <td>0.0</td>\n",
       "      <td>0.0</td>\n",
       "      <td>k</td>\n",
       "    </tr>\n",
       "    <tr>\n",
       "      <td>2</td>\n",
       "      <td>0.996368</td>\n",
       "      <td>-6.458336</td>\n",
       "      <td>-3.225239</td>\n",
       "      <td>NaN</td>\n",
       "      <td>NaN</td>\n",
       "      <td>NaN</td>\n",
       "      <td>NaN</td>\n",
       "      <td>NaN</td>\n",
       "      <td>NaN</td>\n",
       "      <td>0.481110</td>\n",
       "      <td>0.025829</td>\n",
       "      <td>NaN</td>\n",
       "      <td>0.0</td>\n",
       "      <td>NaN</td>\n",
       "      <td>NaN</td>\n",
       "      <td>NaN</td>\n",
       "      <td>0.0</td>\n",
       "      <td>0.0</td>\n",
       "      <td>k</td>\n",
       "    </tr>\n",
       "    <tr>\n",
       "      <td>3</td>\n",
       "      <td>0.999435</td>\n",
       "      <td>-6.093815</td>\n",
       "      <td>-0.854372</td>\n",
       "      <td>NaN</td>\n",
       "      <td>NaN</td>\n",
       "      <td>NaN</td>\n",
       "      <td>NaN</td>\n",
       "      <td>NaN</td>\n",
       "      <td>NaN</td>\n",
       "      <td>-0.312733</td>\n",
       "      <td>-0.000332</td>\n",
       "      <td>NaN</td>\n",
       "      <td>0.0</td>\n",
       "      <td>NaN</td>\n",
       "      <td>NaN</td>\n",
       "      <td>NaN</td>\n",
       "      <td>0.0</td>\n",
       "      <td>0.0</td>\n",
       "      <td>k</td>\n",
       "    </tr>\n",
       "    <tr>\n",
       "      <td>4</td>\n",
       "      <td>0.614984</td>\n",
       "      <td>-3.684101</td>\n",
       "      <td>-6.764263</td>\n",
       "      <td>NaN</td>\n",
       "      <td>NaN</td>\n",
       "      <td>NaN</td>\n",
       "      <td>NaN</td>\n",
       "      <td>NaN</td>\n",
       "      <td>NaN</td>\n",
       "      <td>0.531211</td>\n",
       "      <td>0.019074</td>\n",
       "      <td>NaN</td>\n",
       "      <td>0.0</td>\n",
       "      <td>NaN</td>\n",
       "      <td>NaN</td>\n",
       "      <td>NaN</td>\n",
       "      <td>0.0</td>\n",
       "      <td>-1.0</td>\n",
       "      <td>k</td>\n",
       "    </tr>\n",
       "  </tbody>\n",
       "</table>\n",
       "</div>"
      ],
      "text/plain": [
       "      GS0x7     GS3x0     GS3x1  S0aux0  S0aux1  S0aux2  S0aux3  S0aux4  \\\n",
       "0  0.161806 -5.924373  1.229928     NaN     NaN     NaN     NaN     NaN   \n",
       "1  0.803198 -5.800195 -5.304009     NaN     NaN     NaN     NaN     NaN   \n",
       "2  0.996368 -6.458336 -3.225239     NaN     NaN     NaN     NaN     NaN   \n",
       "3  0.999435 -6.093815 -0.854372     NaN     NaN     NaN     NaN     NaN   \n",
       "4  0.614984 -3.684101 -6.764263     NaN     NaN     NaN     NaN     NaN   \n",
       "\n",
       "   S0aux5    S0aux6    S0aux7  S0aux8  S2aux0  S2aux1  S2aux2  S2aux3  S3aux0  \\\n",
       "0     NaN  0.281227 -0.012882     NaN     0.0     NaN     NaN     NaN     0.0   \n",
       "1     NaN -0.003120  0.070954     NaN     0.0     NaN     NaN     NaN     0.0   \n",
       "2     NaN  0.481110  0.025829     NaN     0.0     NaN     NaN     NaN     0.0   \n",
       "3     NaN -0.312733 -0.000332     NaN     0.0     NaN     NaN     NaN     0.0   \n",
       "4     NaN  0.531211  0.019074     NaN     0.0     NaN     NaN     NaN     0.0   \n",
       "\n",
       "   S5aux0 pid  \n",
       "0     0.0   k  \n",
       "1     0.0   k  \n",
       "2     0.0   k  \n",
       "3     0.0   k  \n",
       "4    -1.0   k  "
      ]
     },
     "execution_count": 60,
     "metadata": {},
     "output_type": "execute_result"
    }
   ],
   "source": [
    "data_gen_k = pd.read_csv(\"./data/generated_pidGAN_Kramer_pidk.csv\")\n",
    "data_gen_m = pd.read_csv(\"./data/generated_pidGAN_Kramer_pidm.csv\")\n",
    "data_gen_e = pd.read_csv(\"./data/generated_pidGAN_Kramer_pide.csv\")\n",
    "\n",
    "data_gen = pd.concat([data_gen_k, data_gen_m, data_gen_e], axis=0)\n",
    "data_gen.head()"
   ]
  },
  {
   "cell_type": "code",
   "execution_count": 61,
   "metadata": {},
   "outputs": [],
   "source": [
    "gen_X_test = data_gen[['GS3x1', 'GS3x0', 'GS0x7']]\n",
    "gen_y_test = [\"k\"]*len(data_gen_k) + [\"m\"]*len(data_gen_m) + [\"e\"]*len(data_gen_e)\n",
    "gen_y_test = le.transform(gen_y_test)"
   ]
  },
  {
   "cell_type": "code",
   "execution_count": 62,
   "metadata": {},
   "outputs": [
    {
     "data": {
      "text/plain": [
       "array([0, 1, 2])"
      ]
     },
     "execution_count": 62,
     "metadata": {},
     "output_type": "execute_result"
    }
   ],
   "source": [
    "np.unique(gen_y_test )"
   ]
  },
  {
   "cell_type": "markdown",
   "metadata": {},
   "source": [
    "# XGBoost"
   ]
  },
  {
   "cell_type": "code",
   "execution_count": 41,
   "metadata": {},
   "outputs": [
    {
     "data": {
      "text/plain": [
       "array(['e', 'k', 'm'], dtype=object)"
      ]
     },
     "execution_count": 41,
     "metadata": {},
     "output_type": "execute_result"
    }
   ],
   "source": [
    "xgb_input = xgb_data[vars_list_input].values\n",
    "xgb_aux   = xgb_data[vars_list_aux].values\n",
    "xgb_MC    = xgb_data[vars_list_MC].values\n",
    "\n",
    "le = LabelEncoder()\n",
    "y = le.fit_transform(xgb_MC[:, 0])\n",
    "le.classes_"
   ]
  },
  {
   "cell_type": "code",
   "execution_count": 42,
   "metadata": {},
   "outputs": [
    {
     "data": {
      "text/plain": [
       "['GS3x1', 'GS3x0', 'GS0x7']"
      ]
     },
     "execution_count": 42,
     "metadata": {},
     "output_type": "execute_result"
    }
   ],
   "source": [
    "vars_list_input"
   ]
  },
  {
   "cell_type": "code",
   "execution_count": 43,
   "metadata": {},
   "outputs": [
    {
     "data": {
      "text/plain": [
       "((126301, 3), (126301,), (126301, 1), (126301, 19))"
      ]
     },
     "execution_count": 43,
     "metadata": {},
     "output_type": "execute_result"
    }
   ],
   "source": [
    "xgb_input.shape, y.shape, xgb_MC.shape, xgb_data.shape"
   ]
  },
  {
   "cell_type": "markdown",
   "metadata": {},
   "source": [
    "### split xgb data into train and test"
   ]
  },
  {
   "cell_type": "code",
   "execution_count": 44,
   "metadata": {},
   "outputs": [],
   "source": [
    "test_size = 0.3\n",
    "\n",
    "idx_train_clf, idx_test_clf = train_test_split(np.arange(xgb_input.shape[0]), stratify=y, \n",
    "                                               random_state=42, test_size=test_size)\n",
    "X_train, X_test = xgb_input[idx_train_clf], xgb_input[idx_test_clf]\n",
    "y_train, y_test = y[idx_train_clf], y[idx_test_clf]\n",
    "\n",
    "X_train_aux, X_test_aux = xgb_aux[idx_train_clf], xgb_aux[idx_test_clf]"
   ]
  },
  {
   "cell_type": "code",
   "execution_count": 49,
   "metadata": {},
   "outputs": [],
   "source": [
    "clf_name = \"XGBoost\"\n",
    "clf = xgb.XGBClassifier(nthread=-1, seed=111)\n",
    "# clf.fit(X_train, y_train)\n",
    "# joblib.dump(clf, os.path.join('./xgboost_models', clf_name) + \".pkl\")\n",
    "clf = joblib.load(os.path.join('./xgboost_models', clf_name) + \".pkl\")"
   ]
  },
  {
   "cell_type": "code",
   "execution_count": 37,
   "metadata": {},
   "outputs": [
    {
     "data": {
      "image/png": "[encoded data removed]",
      "text/plain": [
       "<Figure size 1440x576 with 1 Axes>"
      ]
     },
     "metadata": {
      "needs_background": "light"
     },
     "output_type": "display_data"
    }
   ],
   "source": [
    "importances = clf.feature_importances_\n",
    "indices = np.argsort(importances)[::-1]\n",
    "\n",
    "columns_num = 3\n",
    "\n",
    "plt.figure(figsize=(20, 8))\n",
    "plt.title(\"Feature importances\")\n",
    "plt.bar(range(columns_num), importances[indices],\n",
    "       color=\"r\",  align=\"center\")\n",
    "plt.xticks(range(columns_num), xgb_data[vars_list_input].columns[indices])\n",
    "plt.xlim([-1, columns_num])\n",
    "plt.xticks(rotation=90)\n",
    "plt.show()"
   ]
  },
  {
   "cell_type": "code",
   "execution_count": 26,
   "metadata": {},
   "outputs": [],
   "source": [
    "pd.DataFrame(np.concatenate([X_train, y_train.reshape(y_train.shape[0], 1)], axis=1), columns=vars_list_input+[\"pid\"]).to_csv(\"./data/orig_train_old.csv\")"
   ]
  },
  {
   "cell_type": "code",
   "execution_count": 50,
   "metadata": {},
   "outputs": [],
   "source": [
    "path_to_metrics = './metrics/'\n",
    "metrics_dir_name = \"ae_old\"\n",
    "\n",
    "metrics_dict = {\n",
    "    # ROC\n",
    "    'fpr': defaultdict(dict),\n",
    "    'tpr': defaultdict(dict),\n",
    "    'roc_auc': defaultdict(dict),\n",
    "\n",
    "    # PR\n",
    "    'precision': defaultdict(dict), \n",
    "    'recall': defaultdict(dict),\n",
    "    'pr_auc': defaultdict(dict),\n",
    "\n",
    "    'f_measure': {},\n",
    "    'acc': {}\n",
    "}"
   ]
  },
  {
   "cell_type": "code",
   "execution_count": 51,
   "metadata": {},
   "outputs": [
    {
     "data": {
      "text/plain": [
       "array([0, 1, 2])"
      ]
     },
     "execution_count": 51,
     "metadata": {},
     "output_type": "execute_result"
    }
   ],
   "source": [
    "np.unique(y_test)"
   ]
  },
  {
   "cell_type": "code",
   "execution_count": 63,
   "metadata": {
    "scrolled": false
   },
   "outputs": [
    {
     "data": {
      "image/png": "[encoded data removed]",
      "text/plain": [
       "<Figure size 1080x504 with 2 Axes>"
      ]
     },
     "metadata": {
      "needs_background": "light"
     },
     "output_type": "display_data"
    },
    {
     "data": {
      "image/png": "[encoded data removed]",
      "text/plain": [
       "<Figure size 1080x504 with 2 Axes>"
      ]
     },
     "metadata": {
      "needs_background": "light"
     },
     "output_type": "display_data"
    },
    {
     "data": {
      "image/png": "[encoded data removed]",
      "text/plain": [
       "<Figure size 1080x504 with 2 Axes>"
      ]
     },
     "metadata": {
      "needs_background": "light"
     },
     "output_type": "display_data"
    },
    {
     "data": {
      "image/png": "[encoded data removed]",
      "text/plain": [
       "<Figure size 1080x504 with 2 Axes>"
      ]
     },
     "metadata": {
      "needs_background": "light"
     },
     "output_type": "display_data"
    },
    {
     "name": "stderr",
     "output_type": "stream",
     "text": [
      "100%|██████████| 2/2 [00:07<00:00,  3.95s/it]\n"
     ]
    }
   ],
   "source": [
    "import os\n",
    "for encoding_dim in tqdm([\"orig\", \"gen\"]):\n",
    "    if encoding_dim == \"orig\":\n",
    "        y_proba = clf.predict_proba(X_test)\n",
    "        y_real = y_test\n",
    "    elif encoding_dim == \"gen\":\n",
    "        y_proba = clf.predict_proba(gen_X_test.values)\n",
    "        y_real = gen_y_test\n",
    "    y_pred = np.argmax(y_proba, axis=1)\n",
    "    y_bin = label_binarize(y_real, classes=np.unique(y_real))\n",
    "    \n",
    "    # Compute ROC/PR curve and ROC/PR area for each class\n",
    "    for pid_label in np.unique(y_real):\n",
    "        idx = np.where(y_real == pid_label)[0]\n",
    "        cur_y = np.where(y_real == pid_label, np.ones_like(y_real), np.zeros_like(y_real))\n",
    "        cur_y_proba = y_proba[:, pid_label]\n",
    "        \n",
    "        pid_label = str(pid_label)\n",
    "        metrics_dict['fpr'][encoding_dim][pid_label], metrics_dict['tpr'][encoding_dim][pid_label], _ = \\\n",
    "            roc_curve(cur_y, cur_y_proba)\n",
    "        metrics_dict['precision'][encoding_dim][pid_label], metrics_dict['recall'][encoding_dim][pid_label], _ = \\\n",
    "            precision_recall_curve(cur_y, cur_y_proba)\n",
    "        \n",
    "        metrics_dict['roc_auc'][encoding_dim][pid_label] = auc(\n",
    "            metrics_dict['fpr'][encoding_dim][pid_label], metrics_dict['tpr'][encoding_dim][pid_label])\n",
    "        metrics_dict['pr_auc'][encoding_dim][pid_label] = average_precision_score(cur_y.ravel(), cur_y_proba.ravel())\n",
    "        \n",
    "    metrics_dict['fpr'][encoding_dim][\"micro\"], metrics_dict['tpr'][encoding_dim][\"micro\"], _ = \\\n",
    "        roc_curve(y_bin.ravel(), y_proba.ravel())\n",
    "    metrics_dict['precision'][encoding_dim][\"micro\"], metrics_dict['recall'][encoding_dim][\"micro\"], _ = \\\n",
    "        precision_recall_curve(y_bin.ravel(), y_proba.ravel())\n",
    "    \n",
    "    metrics_dict['roc_auc'][encoding_dim][\"micro\"] = auc(\n",
    "        metrics_dict['fpr'][encoding_dim][\"micro\"], metrics_dict['tpr'][encoding_dim][\"micro\"])\n",
    "    metrics_dict['pr_auc'][encoding_dim][\"micro\"] = average_precision_score(y_bin.ravel(), y_proba.ravel())\n",
    "    \n",
    "    metrics_dict['f_measure'][encoding_dim] = f1_score(y_real, y_pred, average='micro')\n",
    "    metrics_dict['acc'][encoding_dim] = accuracy_score(y_real, y_pred)\n",
    "    \n",
    "    # Save\n",
    "    dump_metrics(path_to_metrics, metrics_dir_name, metrics_dict)\n",
    "    \n",
    "    # Plot\n",
    "    display.clear_output(wait=True)\n",
    "    plot_metrics(metrics_dict, pid_label='micro', xlim=(-0.02, 1), ylim=(0, 1.02), save_path=os.path.join(path_to_metrics, metrics_dir_name))\n",
    "    plot_metrics(metrics_dict, pid_label='0', xlim=(-0.02, 1), ylim=(0, 1.02), save_path=os.path.join(path_to_metrics, metrics_dir_name))\n",
    "    plot_metrics(metrics_dict, pid_label='1', xlim=(-0.02, 1), ylim=(0, 1.02), save_path=os.path.join(path_to_metrics, metrics_dir_name))\n",
    "    plot_metrics(metrics_dict, pid_label='2', xlim=(-0.02, 1), ylim=(0, 1.02), save_path=os.path.join(path_to_metrics, metrics_dir_name))\n",
    "#     plot_metrics(metrics_dict, pid_label='3', xlim=(-0.02, 1), ylim=(0, 1.02), save_path=os.path.join(path_to_metrics, metrics_dir_name))\n",
    "#     plot_metrics(metrics_dict, pid_label='4', xlim=(-0.02, 1), ylim=(0, 1.02), save_path=os.path.join(path_to_metrics, metrics_dir_name))\n",
    "#     plot_metrics(metrics_dict, pid_label='5', xlim=(-0.02, 1), ylim=(0, 1.02), save_path=os.path.join(path_to_metrics, metrics_dir_name))\n",
    "#     fig.savefig('./plots/{}_dim_{}.png'.format(MODEL_NAME, encoding_dim))"
   ]
  },
  {
   "cell_type": "code",
   "execution_count": null,
   "metadata": {},
   "outputs": [],
   "source": []
  }
 ],
 "metadata": {
  "kernelspec": {
   "display_name": "Python 3",
   "language": "python",
   "name": "python3"
  },
  "language_info": {
   "codemirror_mode": {
    "name": "ipython",
    "version": 3
   },
   "file_extension": ".py",
   "mimetype": "text/x-python",
   "name": "python",
   "nbconvert_exporter": "python",
   "pygments_lexer": "ipython3",
   "version": "3.6.9"
  }
 },
 "nbformat": 4,
 "nbformat_minor": 2
}
